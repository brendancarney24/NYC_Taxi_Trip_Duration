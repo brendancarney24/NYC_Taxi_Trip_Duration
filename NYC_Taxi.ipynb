{
  "nbformat": 4,
  "nbformat_minor": 0,
  "metadata": {
    "colab": {
      "name": "NYC_Taxi.ipynb",
      "provenance": [],
      "collapsed_sections": [],
      "toc_visible": true,
      "machine_shape": "hm"
    },
    "kernelspec": {
      "display_name": "Python 3",
      "language": "python",
      "name": "python3"
    },
    "language_info": {
      "codemirror_mode": {
        "name": "ipython",
        "version": 3
      },
      "file_extension": ".py",
      "mimetype": "text/x-python",
      "name": "python",
      "nbconvert_exporter": "python",
      "pygments_lexer": "ipython3",
      "version": "3.8.3"
    },
    "toc": {
      "base_numbering": 1,
      "nav_menu": {},
      "number_sections": true,
      "sideBar": true,
      "skip_h1_title": false,
      "title_cell": "Table of Contents",
      "title_sidebar": "Contents",
      "toc_cell": true,
      "toc_position": {},
      "toc_section_display": true,
      "toc_window_display": false
    }
  },
  "cells": [
    {
      "cell_type": "markdown",
      "metadata": {
        "id": "pRe7-DDeqUAz"
      },
      "source": [
        "# **NYC Taxi Trip Duration**\n",
        "\n",
        "Brendan Carney\n",
        "\n",
        "DATS 6202: Machine Learning \n",
        "\n",
        "Professor Yuxiao Huang"
      ]
    },
    {
      "cell_type": "markdown",
      "metadata": {
        "id": "W0BBq1tFqZpk"
      },
      "source": [
        "# Notebook Configuration\n",
        "\n",
        "\n",
        "\n"
      ]
    },
    {
      "cell_type": "markdown",
      "metadata": {
        "id": "H3yB94KtgMHu"
      },
      "source": [
        "## Google drive"
      ]
    },
    {
      "cell_type": "code",
      "metadata": {
        "colab": {
          "base_uri": "https://localhost:8080/"
        },
        "id": "jWmYBTOwgNs-",
        "outputId": "0ae7c50c-aa1f-4652-94b8-cca8691042ab"
      },
      "source": [
        "from google.colab import drive\n",
        "import sys\n",
        "\n",
        "# Mount Google Drive\n",
        "drive.mount('/content/drive')\n",
        "\n",
        "# Get the absolute path of the current folder\n",
        "abspath_curr = '/content/drive/My Drive/Homework_1/'\n",
        "\n",
        "# Get the absolute path of the shallow utilities folder\n",
        "abspath_util_shallow = '/content/drive/My Drive/ColabNotebooks'\n",
        "\n",
        "# Get the absolute path of the shallow models folder\n",
        "abspath_model_shallow = '/content/drive/My Drive/ColabNotebooks'"
      ],
      "execution_count": 1,
      "outputs": [
        {
          "output_type": "stream",
          "text": [
            "Mounted at /content/drive\n"
          ],
          "name": "stdout"
        }
      ]
    },
    {
      "cell_type": "markdown",
      "metadata": {
        "id": "bYZhU1Wqgmqx"
      },
      "source": [
        "## Warning"
      ]
    },
    {
      "cell_type": "code",
      "metadata": {
        "id": "MUl4k83e4ANR"
      },
      "source": [
        "import warnings\n",
        "\n",
        "# Ignore warnings\n",
        "warnings.filterwarnings('ignore')"
      ],
      "execution_count": 2,
      "outputs": []
    },
    {
      "cell_type": "markdown",
      "metadata": {
        "id": "6WMODpPfgn2U"
      },
      "source": [
        "## Matplotlib"
      ]
    },
    {
      "cell_type": "code",
      "metadata": {
        "id": "DBRVH9SB4ANb"
      },
      "source": [
        "import matplotlib.pyplot as plt\n",
        "%matplotlib inline \n",
        "\n",
        "# Set matplotlib sizes\n",
        "plt.rc('font', size=20)\n",
        "plt.rc('axes', titlesize=20)\n",
        "plt.rc('axes', labelsize=20)\n",
        "plt.rc('xtick', labelsize=20)\n",
        "plt.rc('ytick', labelsize=20)\n",
        "plt.rc('legend', fontsize=20)\n",
        "plt.rc('figure', titlesize=20)"
      ],
      "execution_count": 3,
      "outputs": []
    },
    {
      "cell_type": "markdown",
      "metadata": {
        "id": "n-wNDk5nZhhO"
      },
      "source": [
        "## TensorFlow"
      ]
    },
    {
      "cell_type": "code",
      "metadata": {
        "id": "LjG43tEnZkfE"
      },
      "source": [
        "%tensorflow_version 2.x \n",
        "import tensorflow as tf\n",
        "from tensorflow import keras"
      ],
      "execution_count": 4,
      "outputs": []
    },
    {
      "cell_type": "markdown",
      "metadata": {
        "id": "40FN3UNfO2Z7"
      },
      "source": [
        "## Random seed"
      ]
    },
    {
      "cell_type": "code",
      "metadata": {
        "id": "uSADk0hJP71d"
      },
      "source": [
        "# The random seed\n",
        "random_seed = 42\n",
        "\n",
        "# Set random seed in tensorflow\n",
        "tf.random.set_seed(random_seed)\n",
        "\n",
        "# Set random seed in numpy\n",
        "import numpy as np\n",
        "np.random.seed(random_seed)"
      ],
      "execution_count": 5,
      "outputs": []
    },
    {
      "cell_type": "markdown",
      "metadata": {
        "id": "yAwfz8iYzlFC"
      },
      "source": [
        "# Data Preprocessing\n"
      ]
    },
    {
      "cell_type": "code",
      "metadata": {
        "colab": {
          "base_uri": "https://localhost:8080/"
        },
        "id": "D-Mwc6MczlFD",
        "outputId": "1c1a565f-b5d8-417b-af87-5423361ce466"
      },
      "source": [
        "# Change working directory to the absolute path of the shallow utilities folder\n",
        "%cd $abspath_util_shallow\n",
        "\n",
        "# Import the shallow utitilities\n",
        "%run pmlm_utilities_shallow.ipynb"
      ],
      "execution_count": 6,
      "outputs": [
        {
          "output_type": "stream",
          "text": [
            "/content/drive/My Drive/ColabNotebooks\n"
          ],
          "name": "stdout"
        }
      ]
    },
    {
      "cell_type": "markdown",
      "metadata": {
        "id": "nzkPSZCYqsHO"
      },
      "source": [
        "### **Loading the data**"
      ]
    },
    {
      "cell_type": "code",
      "metadata": {
        "id": "HoO7NPLOmZ4X"
      },
      "source": [
        "import pandas as pd\n",
        "\n",
        "# Load the raw training data \n",
        "df_raw_train = pd.read_csv('/content/drive/My Drive/ColabNotebooks/taxi_train.csv', header=0)\n",
        "\n",
        "# Make a copy of df_raw_train\n",
        "df_train = df_raw_train.copy(deep=True)\n",
        "\n",
        "# Load the raw test data\n",
        "df_raw_test = pd.read_csv('/content/drive/My Drive/ColabNotebooks/taxi_test.csv', header=0)\n",
        "\n",
        "# Make a copy of df_raw_test\n",
        "df_test = df_raw_test.copy(deep=True)\n",
        "\n",
        "# Get the name of the target\n",
        "target = 'trip_duration'"
      ],
      "execution_count": 7,
      "outputs": []
    },
    {
      "cell_type": "code",
      "metadata": {
        "colab": {
          "base_uri": "https://localhost:8080/",
          "height": 80
        },
        "id": "4qpQWvSMpE7M",
        "outputId": "885d4325-6303-458e-e5c7-2b3f150896eb"
      },
      "source": [
        "\n",
        "# Print the dimension of df_train\n",
        "pd.DataFrame([[df_train.shape[0], df_train.shape[1]]], columns=['# rows', '# columns'])"
      ],
      "execution_count": 8,
      "outputs": [
        {
          "output_type": "execute_result",
          "data": {
            "text/html": [
              "<div>\n",
              "<style scoped>\n",
              "    .dataframe tbody tr th:only-of-type {\n",
              "        vertical-align: middle;\n",
              "    }\n",
              "\n",
              "    .dataframe tbody tr th {\n",
              "        vertical-align: top;\n",
              "    }\n",
              "\n",
              "    .dataframe thead th {\n",
              "        text-align: right;\n",
              "    }\n",
              "</style>\n",
              "<table border=\"1\" class=\"dataframe\">\n",
              "  <thead>\n",
              "    <tr style=\"text-align: right;\">\n",
              "      <th></th>\n",
              "      <th># rows</th>\n",
              "      <th># columns</th>\n",
              "    </tr>\n",
              "  </thead>\n",
              "  <tbody>\n",
              "    <tr>\n",
              "      <th>0</th>\n",
              "      <td>1458644</td>\n",
              "      <td>11</td>\n",
              "    </tr>\n",
              "  </tbody>\n",
              "</table>\n",
              "</div>"
            ],
            "text/plain": [
              "    # rows  # columns\n",
              "0  1458644         11"
            ]
          },
          "metadata": {
            "tags": []
          },
          "execution_count": 8
        }
      ]
    },
    {
      "cell_type": "code",
      "metadata": {
        "colab": {
          "base_uri": "https://localhost:8080/",
          "height": 80
        },
        "id": "xaNEHhrdpjYD",
        "outputId": "210b39d3-d6fd-46ab-c95c-fafc977b8c02"
      },
      "source": [
        "# Print the dimension of df_test\n",
        "pd.DataFrame([[df_test.shape[0], df_test.shape[1]]], columns=['# rows', '# columns'])"
      ],
      "execution_count": 9,
      "outputs": [
        {
          "output_type": "execute_result",
          "data": {
            "text/html": [
              "<div>\n",
              "<style scoped>\n",
              "    .dataframe tbody tr th:only-of-type {\n",
              "        vertical-align: middle;\n",
              "    }\n",
              "\n",
              "    .dataframe tbody tr th {\n",
              "        vertical-align: top;\n",
              "    }\n",
              "\n",
              "    .dataframe thead th {\n",
              "        text-align: right;\n",
              "    }\n",
              "</style>\n",
              "<table border=\"1\" class=\"dataframe\">\n",
              "  <thead>\n",
              "    <tr style=\"text-align: right;\">\n",
              "      <th></th>\n",
              "      <th># rows</th>\n",
              "      <th># columns</th>\n",
              "    </tr>\n",
              "  </thead>\n",
              "  <tbody>\n",
              "    <tr>\n",
              "      <th>0</th>\n",
              "      <td>625134</td>\n",
              "      <td>9</td>\n",
              "    </tr>\n",
              "  </tbody>\n",
              "</table>\n",
              "</div>"
            ],
            "text/plain": [
              "   # rows  # columns\n",
              "0  625134          9"
            ]
          },
          "metadata": {
            "tags": []
          },
          "execution_count": 9
        }
      ]
    },
    {
      "cell_type": "code",
      "metadata": {
        "colab": {
          "base_uri": "https://localhost:8080/",
          "height": 309
        },
        "id": "p2R7UvtpqZxr",
        "outputId": "69960526-9f84-4ee2-9a16-81066faa2be0"
      },
      "source": [
        "# Print the first 5 rows of df_train\n",
        "df_train.head()\n"
      ],
      "execution_count": 10,
      "outputs": [
        {
          "output_type": "execute_result",
          "data": {
            "text/html": [
              "<div>\n",
              "<style scoped>\n",
              "    .dataframe tbody tr th:only-of-type {\n",
              "        vertical-align: middle;\n",
              "    }\n",
              "\n",
              "    .dataframe tbody tr th {\n",
              "        vertical-align: top;\n",
              "    }\n",
              "\n",
              "    .dataframe thead th {\n",
              "        text-align: right;\n",
              "    }\n",
              "</style>\n",
              "<table border=\"1\" class=\"dataframe\">\n",
              "  <thead>\n",
              "    <tr style=\"text-align: right;\">\n",
              "      <th></th>\n",
              "      <th>id</th>\n",
              "      <th>vendor_id</th>\n",
              "      <th>pickup_datetime</th>\n",
              "      <th>dropoff_datetime</th>\n",
              "      <th>passenger_count</th>\n",
              "      <th>pickup_longitude</th>\n",
              "      <th>pickup_latitude</th>\n",
              "      <th>dropoff_longitude</th>\n",
              "      <th>dropoff_latitude</th>\n",
              "      <th>store_and_fwd_flag</th>\n",
              "      <th>trip_duration</th>\n",
              "    </tr>\n",
              "  </thead>\n",
              "  <tbody>\n",
              "    <tr>\n",
              "      <th>0</th>\n",
              "      <td>id2875421</td>\n",
              "      <td>2</td>\n",
              "      <td>2016-03-14 17:24:55</td>\n",
              "      <td>2016-03-14 17:32:30</td>\n",
              "      <td>1</td>\n",
              "      <td>-73.982155</td>\n",
              "      <td>40.767937</td>\n",
              "      <td>-73.964630</td>\n",
              "      <td>40.765602</td>\n",
              "      <td>N</td>\n",
              "      <td>455</td>\n",
              "    </tr>\n",
              "    <tr>\n",
              "      <th>1</th>\n",
              "      <td>id2377394</td>\n",
              "      <td>1</td>\n",
              "      <td>2016-06-12 00:43:35</td>\n",
              "      <td>2016-06-12 00:54:38</td>\n",
              "      <td>1</td>\n",
              "      <td>-73.980415</td>\n",
              "      <td>40.738564</td>\n",
              "      <td>-73.999481</td>\n",
              "      <td>40.731152</td>\n",
              "      <td>N</td>\n",
              "      <td>663</td>\n",
              "    </tr>\n",
              "    <tr>\n",
              "      <th>2</th>\n",
              "      <td>id3858529</td>\n",
              "      <td>2</td>\n",
              "      <td>2016-01-19 11:35:24</td>\n",
              "      <td>2016-01-19 12:10:48</td>\n",
              "      <td>1</td>\n",
              "      <td>-73.979027</td>\n",
              "      <td>40.763939</td>\n",
              "      <td>-74.005333</td>\n",
              "      <td>40.710087</td>\n",
              "      <td>N</td>\n",
              "      <td>2124</td>\n",
              "    </tr>\n",
              "    <tr>\n",
              "      <th>3</th>\n",
              "      <td>id3504673</td>\n",
              "      <td>2</td>\n",
              "      <td>2016-04-06 19:32:31</td>\n",
              "      <td>2016-04-06 19:39:40</td>\n",
              "      <td>1</td>\n",
              "      <td>-74.010040</td>\n",
              "      <td>40.719971</td>\n",
              "      <td>-74.012268</td>\n",
              "      <td>40.706718</td>\n",
              "      <td>N</td>\n",
              "      <td>429</td>\n",
              "    </tr>\n",
              "    <tr>\n",
              "      <th>4</th>\n",
              "      <td>id2181028</td>\n",
              "      <td>2</td>\n",
              "      <td>2016-03-26 13:30:55</td>\n",
              "      <td>2016-03-26 13:38:10</td>\n",
              "      <td>1</td>\n",
              "      <td>-73.973053</td>\n",
              "      <td>40.793209</td>\n",
              "      <td>-73.972923</td>\n",
              "      <td>40.782520</td>\n",
              "      <td>N</td>\n",
              "      <td>435</td>\n",
              "    </tr>\n",
              "  </tbody>\n",
              "</table>\n",
              "</div>"
            ],
            "text/plain": [
              "          id  vendor_id  ... store_and_fwd_flag trip_duration\n",
              "0  id2875421          2  ...                  N           455\n",
              "1  id2377394          1  ...                  N           663\n",
              "2  id3858529          2  ...                  N          2124\n",
              "3  id3504673          2  ...                  N           429\n",
              "4  id2181028          2  ...                  N           435\n",
              "\n",
              "[5 rows x 11 columns]"
            ]
          },
          "metadata": {
            "tags": []
          },
          "execution_count": 10
        }
      ]
    },
    {
      "cell_type": "code",
      "metadata": {
        "colab": {
          "base_uri": "https://localhost:8080/",
          "height": 202
        },
        "id": "2fbv9uxVqd63",
        "outputId": "0c816653-c39c-47cd-d4bc-b4d58206b40e"
      },
      "source": [
        "\n",
        "# Print the first 5 rows of df_test\n",
        "df_test.head()"
      ],
      "execution_count": 11,
      "outputs": [
        {
          "output_type": "execute_result",
          "data": {
            "text/html": [
              "<div>\n",
              "<style scoped>\n",
              "    .dataframe tbody tr th:only-of-type {\n",
              "        vertical-align: middle;\n",
              "    }\n",
              "\n",
              "    .dataframe tbody tr th {\n",
              "        vertical-align: top;\n",
              "    }\n",
              "\n",
              "    .dataframe thead th {\n",
              "        text-align: right;\n",
              "    }\n",
              "</style>\n",
              "<table border=\"1\" class=\"dataframe\">\n",
              "  <thead>\n",
              "    <tr style=\"text-align: right;\">\n",
              "      <th></th>\n",
              "      <th>id</th>\n",
              "      <th>vendor_id</th>\n",
              "      <th>pickup_datetime</th>\n",
              "      <th>passenger_count</th>\n",
              "      <th>pickup_longitude</th>\n",
              "      <th>pickup_latitude</th>\n",
              "      <th>dropoff_longitude</th>\n",
              "      <th>dropoff_latitude</th>\n",
              "      <th>store_and_fwd_flag</th>\n",
              "    </tr>\n",
              "  </thead>\n",
              "  <tbody>\n",
              "    <tr>\n",
              "      <th>0</th>\n",
              "      <td>id3004672</td>\n",
              "      <td>1</td>\n",
              "      <td>2016-06-30 23:59:58</td>\n",
              "      <td>1</td>\n",
              "      <td>-73.988129</td>\n",
              "      <td>40.732029</td>\n",
              "      <td>-73.990173</td>\n",
              "      <td>40.756680</td>\n",
              "      <td>N</td>\n",
              "    </tr>\n",
              "    <tr>\n",
              "      <th>1</th>\n",
              "      <td>id3505355</td>\n",
              "      <td>1</td>\n",
              "      <td>2016-06-30 23:59:53</td>\n",
              "      <td>1</td>\n",
              "      <td>-73.964203</td>\n",
              "      <td>40.679993</td>\n",
              "      <td>-73.959808</td>\n",
              "      <td>40.655403</td>\n",
              "      <td>N</td>\n",
              "    </tr>\n",
              "    <tr>\n",
              "      <th>2</th>\n",
              "      <td>id1217141</td>\n",
              "      <td>1</td>\n",
              "      <td>2016-06-30 23:59:47</td>\n",
              "      <td>1</td>\n",
              "      <td>-73.997437</td>\n",
              "      <td>40.737583</td>\n",
              "      <td>-73.986160</td>\n",
              "      <td>40.729523</td>\n",
              "      <td>N</td>\n",
              "    </tr>\n",
              "    <tr>\n",
              "      <th>3</th>\n",
              "      <td>id2150126</td>\n",
              "      <td>2</td>\n",
              "      <td>2016-06-30 23:59:41</td>\n",
              "      <td>1</td>\n",
              "      <td>-73.956070</td>\n",
              "      <td>40.771900</td>\n",
              "      <td>-73.986427</td>\n",
              "      <td>40.730469</td>\n",
              "      <td>N</td>\n",
              "    </tr>\n",
              "    <tr>\n",
              "      <th>4</th>\n",
              "      <td>id1598245</td>\n",
              "      <td>1</td>\n",
              "      <td>2016-06-30 23:59:33</td>\n",
              "      <td>1</td>\n",
              "      <td>-73.970215</td>\n",
              "      <td>40.761475</td>\n",
              "      <td>-73.961510</td>\n",
              "      <td>40.755890</td>\n",
              "      <td>N</td>\n",
              "    </tr>\n",
              "  </tbody>\n",
              "</table>\n",
              "</div>"
            ],
            "text/plain": [
              "          id  vendor_id  ... dropoff_latitude  store_and_fwd_flag\n",
              "0  id3004672          1  ...        40.756680                   N\n",
              "1  id3505355          1  ...        40.655403                   N\n",
              "2  id1217141          1  ...        40.729523                   N\n",
              "3  id2150126          2  ...        40.730469                   N\n",
              "4  id1598245          1  ...        40.755890                   N\n",
              "\n",
              "[5 rows x 9 columns]"
            ]
          },
          "metadata": {
            "tags": []
          },
          "execution_count": 11
        }
      ]
    },
    {
      "cell_type": "markdown",
      "metadata": {
        "id": "pFtfT4FHqmOK"
      },
      "source": [
        "### **Splitting the data**\n",
        " "
      ]
    },
    {
      "cell_type": "code",
      "metadata": {
        "id": "Kgf5br_Oqk0G"
      },
      "source": [
        "from sklearn.model_selection import train_test_split\n",
        "\n",
        "# Divide the training data into training (80%) and validation (20%)\n",
        "df_train, df_val = train_test_split(df_train, train_size=0.8, random_state=random_seed)\n",
        "\n",
        "# Reset the index\n",
        "df_train, df_val = df_train.reset_index(drop=True), df_val.reset_index(drop=True)"
      ],
      "execution_count": 12,
      "outputs": []
    },
    {
      "cell_type": "code",
      "metadata": {
        "colab": {
          "base_uri": "https://localhost:8080/",
          "height": 80
        },
        "id": "e-W0jvH8q9In",
        "outputId": "76fd103f-ea45-4f8e-f798-5a84b4ae8a5d"
      },
      "source": [
        "\n",
        "# Print the dimension of df_train\n",
        "pd.DataFrame([[df_train.shape[0], df_train.shape[1]]], columns=['# rows', '# columns'])"
      ],
      "execution_count": 13,
      "outputs": [
        {
          "output_type": "execute_result",
          "data": {
            "text/html": [
              "<div>\n",
              "<style scoped>\n",
              "    .dataframe tbody tr th:only-of-type {\n",
              "        vertical-align: middle;\n",
              "    }\n",
              "\n",
              "    .dataframe tbody tr th {\n",
              "        vertical-align: top;\n",
              "    }\n",
              "\n",
              "    .dataframe thead th {\n",
              "        text-align: right;\n",
              "    }\n",
              "</style>\n",
              "<table border=\"1\" class=\"dataframe\">\n",
              "  <thead>\n",
              "    <tr style=\"text-align: right;\">\n",
              "      <th></th>\n",
              "      <th># rows</th>\n",
              "      <th># columns</th>\n",
              "    </tr>\n",
              "  </thead>\n",
              "  <tbody>\n",
              "    <tr>\n",
              "      <th>0</th>\n",
              "      <td>1166915</td>\n",
              "      <td>11</td>\n",
              "    </tr>\n",
              "  </tbody>\n",
              "</table>\n",
              "</div>"
            ],
            "text/plain": [
              "    # rows  # columns\n",
              "0  1166915         11"
            ]
          },
          "metadata": {
            "tags": []
          },
          "execution_count": 13
        }
      ]
    },
    {
      "cell_type": "code",
      "metadata": {
        "colab": {
          "base_uri": "https://localhost:8080/",
          "height": 80
        },
        "id": "P1FPHV4ZrBjN",
        "outputId": "f300f6c7-d50e-455a-d170-4d03c08448be"
      },
      "source": [
        "\n",
        "# Print the dimension of df_val\n",
        "pd.DataFrame([[df_val.shape[0], df_val.shape[1]]], columns=['# rows', '# columns'])"
      ],
      "execution_count": 14,
      "outputs": [
        {
          "output_type": "execute_result",
          "data": {
            "text/html": [
              "<div>\n",
              "<style scoped>\n",
              "    .dataframe tbody tr th:only-of-type {\n",
              "        vertical-align: middle;\n",
              "    }\n",
              "\n",
              "    .dataframe tbody tr th {\n",
              "        vertical-align: top;\n",
              "    }\n",
              "\n",
              "    .dataframe thead th {\n",
              "        text-align: right;\n",
              "    }\n",
              "</style>\n",
              "<table border=\"1\" class=\"dataframe\">\n",
              "  <thead>\n",
              "    <tr style=\"text-align: right;\">\n",
              "      <th></th>\n",
              "      <th># rows</th>\n",
              "      <th># columns</th>\n",
              "    </tr>\n",
              "  </thead>\n",
              "  <tbody>\n",
              "    <tr>\n",
              "      <th>0</th>\n",
              "      <td>291729</td>\n",
              "      <td>11</td>\n",
              "    </tr>\n",
              "  </tbody>\n",
              "</table>\n",
              "</div>"
            ],
            "text/plain": [
              "   # rows  # columns\n",
              "0  291729         11"
            ]
          },
          "metadata": {
            "tags": []
          },
          "execution_count": 14
        }
      ]
    },
    {
      "cell_type": "markdown",
      "metadata": {
        "id": "hjnv3ZgwrMDU"
      },
      "source": [
        "### **Handling uncommon features**"
      ]
    },
    {
      "cell_type": "code",
      "metadata": {
        "colab": {
          "base_uri": "https://localhost:8080/",
          "height": 356
        },
        "id": "GTC_oIB4rP9n",
        "outputId": "e4d3013e-6cc8-4430-84cd-9c8c1569961e"
      },
      "source": [
        "# Call common_var_checker\n",
        "# See the implementation in pmlm_utilities.ipynb\n",
        "df_common_var = common_var_checker(df_train, df_val, df_test, target)\n",
        "\n",
        "# Print df_common_var\n",
        "df_common_var"
      ],
      "execution_count": 15,
      "outputs": [
        {
          "output_type": "execute_result",
          "data": {
            "text/html": [
              "<div>\n",
              "<style scoped>\n",
              "    .dataframe tbody tr th:only-of-type {\n",
              "        vertical-align: middle;\n",
              "    }\n",
              "\n",
              "    .dataframe tbody tr th {\n",
              "        vertical-align: top;\n",
              "    }\n",
              "\n",
              "    .dataframe thead th {\n",
              "        text-align: right;\n",
              "    }\n",
              "</style>\n",
              "<table border=\"1\" class=\"dataframe\">\n",
              "  <thead>\n",
              "    <tr style=\"text-align: right;\">\n",
              "      <th></th>\n",
              "      <th>common var</th>\n",
              "    </tr>\n",
              "  </thead>\n",
              "  <tbody>\n",
              "    <tr>\n",
              "      <th>0</th>\n",
              "      <td>dropoff_latitude</td>\n",
              "    </tr>\n",
              "    <tr>\n",
              "      <th>1</th>\n",
              "      <td>dropoff_longitude</td>\n",
              "    </tr>\n",
              "    <tr>\n",
              "      <th>2</th>\n",
              "      <td>id</td>\n",
              "    </tr>\n",
              "    <tr>\n",
              "      <th>3</th>\n",
              "      <td>passenger_count</td>\n",
              "    </tr>\n",
              "    <tr>\n",
              "      <th>4</th>\n",
              "      <td>pickup_datetime</td>\n",
              "    </tr>\n",
              "    <tr>\n",
              "      <th>5</th>\n",
              "      <td>pickup_latitude</td>\n",
              "    </tr>\n",
              "    <tr>\n",
              "      <th>6</th>\n",
              "      <td>pickup_longitude</td>\n",
              "    </tr>\n",
              "    <tr>\n",
              "      <th>7</th>\n",
              "      <td>store_and_fwd_flag</td>\n",
              "    </tr>\n",
              "    <tr>\n",
              "      <th>8</th>\n",
              "      <td>trip_duration</td>\n",
              "    </tr>\n",
              "    <tr>\n",
              "      <th>9</th>\n",
              "      <td>vendor_id</td>\n",
              "    </tr>\n",
              "  </tbody>\n",
              "</table>\n",
              "</div>"
            ],
            "text/plain": [
              "           common var\n",
              "0    dropoff_latitude\n",
              "1   dropoff_longitude\n",
              "2                  id\n",
              "3     passenger_count\n",
              "4     pickup_datetime\n",
              "5     pickup_latitude\n",
              "6    pickup_longitude\n",
              "7  store_and_fwd_flag\n",
              "8       trip_duration\n",
              "9           vendor_id"
            ]
          },
          "metadata": {
            "tags": []
          },
          "execution_count": 15
        }
      ]
    },
    {
      "cell_type": "code",
      "metadata": {
        "colab": {
          "base_uri": "https://localhost:8080/",
          "height": 80
        },
        "id": "abRc81C1sVUZ",
        "outputId": "7e9a95f9-3826-4844-e0cd-a20839b906d7"
      },
      "source": [
        "# Get the features in the training data but not in the validation or test data\n",
        "uncommon_feature_train_not_val_test = np.setdiff1d(df_train.columns, df_common_var['common var'])\n",
        "\n",
        "# Print the uncommon features\n",
        "pd.DataFrame(uncommon_feature_train_not_val_test, columns=['uncommon feature'])"
      ],
      "execution_count": 16,
      "outputs": [
        {
          "output_type": "execute_result",
          "data": {
            "text/html": [
              "<div>\n",
              "<style scoped>\n",
              "    .dataframe tbody tr th:only-of-type {\n",
              "        vertical-align: middle;\n",
              "    }\n",
              "\n",
              "    .dataframe tbody tr th {\n",
              "        vertical-align: top;\n",
              "    }\n",
              "\n",
              "    .dataframe thead th {\n",
              "        text-align: right;\n",
              "    }\n",
              "</style>\n",
              "<table border=\"1\" class=\"dataframe\">\n",
              "  <thead>\n",
              "    <tr style=\"text-align: right;\">\n",
              "      <th></th>\n",
              "      <th>uncommon feature</th>\n",
              "    </tr>\n",
              "  </thead>\n",
              "  <tbody>\n",
              "    <tr>\n",
              "      <th>0</th>\n",
              "      <td>dropoff_datetime</td>\n",
              "    </tr>\n",
              "  </tbody>\n",
              "</table>\n",
              "</div>"
            ],
            "text/plain": [
              "   uncommon feature\n",
              "0  dropoff_datetime"
            ]
          },
          "metadata": {
            "tags": []
          },
          "execution_count": 16
        }
      ]
    },
    {
      "cell_type": "code",
      "metadata": {
        "id": "WaRCcvwosZ7U",
        "colab": {
          "base_uri": "https://localhost:8080/",
          "height": 80
        },
        "outputId": "6278a566-470e-49c5-825b-5f0d9c8d2c23"
      },
      "source": [
        "# Get the features in the validation data but not in the training or test data\n",
        "uncommon_feature_val_not_train_test = np.setdiff1d(df_val.columns, df_common_var['common var'])\n",
        "\n",
        "# Print the uncommon features\n",
        "pd.DataFrame(uncommon_feature_val_not_train_test, columns=['uncommon feature'])"
      ],
      "execution_count": 17,
      "outputs": [
        {
          "output_type": "execute_result",
          "data": {
            "text/html": [
              "<div>\n",
              "<style scoped>\n",
              "    .dataframe tbody tr th:only-of-type {\n",
              "        vertical-align: middle;\n",
              "    }\n",
              "\n",
              "    .dataframe tbody tr th {\n",
              "        vertical-align: top;\n",
              "    }\n",
              "\n",
              "    .dataframe thead th {\n",
              "        text-align: right;\n",
              "    }\n",
              "</style>\n",
              "<table border=\"1\" class=\"dataframe\">\n",
              "  <thead>\n",
              "    <tr style=\"text-align: right;\">\n",
              "      <th></th>\n",
              "      <th>uncommon feature</th>\n",
              "    </tr>\n",
              "  </thead>\n",
              "  <tbody>\n",
              "    <tr>\n",
              "      <th>0</th>\n",
              "      <td>dropoff_datetime</td>\n",
              "    </tr>\n",
              "  </tbody>\n",
              "</table>\n",
              "</div>"
            ],
            "text/plain": [
              "   uncommon feature\n",
              "0  dropoff_datetime"
            ]
          },
          "metadata": {
            "tags": []
          },
          "execution_count": 17
        }
      ]
    },
    {
      "cell_type": "code",
      "metadata": {
        "id": "e3-XE8K5seOc",
        "colab": {
          "base_uri": "https://localhost:8080/",
          "height": 49
        },
        "outputId": "caca6434-4f58-49bd-918c-454ccebe87b0"
      },
      "source": [
        "# Get the features in the test data but not in the training or validation data\n",
        "uncommon_feature_test_not_train_val = np.setdiff1d(df_test.columns, df_common_var['common var'])\n",
        "\n",
        "# Print the uncommon features\n",
        "pd.DataFrame(uncommon_feature_test_not_train_val, columns=['uncommon feature'])"
      ],
      "execution_count": 18,
      "outputs": [
        {
          "output_type": "execute_result",
          "data": {
            "text/html": [
              "<div>\n",
              "<style scoped>\n",
              "    .dataframe tbody tr th:only-of-type {\n",
              "        vertical-align: middle;\n",
              "    }\n",
              "\n",
              "    .dataframe tbody tr th {\n",
              "        vertical-align: top;\n",
              "    }\n",
              "\n",
              "    .dataframe thead th {\n",
              "        text-align: right;\n",
              "    }\n",
              "</style>\n",
              "<table border=\"1\" class=\"dataframe\">\n",
              "  <thead>\n",
              "    <tr style=\"text-align: right;\">\n",
              "      <th></th>\n",
              "      <th>uncommon feature</th>\n",
              "    </tr>\n",
              "  </thead>\n",
              "  <tbody>\n",
              "  </tbody>\n",
              "</table>\n",
              "</div>"
            ],
            "text/plain": [
              "Empty DataFrame\n",
              "Columns: [uncommon feature]\n",
              "Index: []"
            ]
          },
          "metadata": {
            "tags": []
          },
          "execution_count": 18
        }
      ]
    },
    {
      "cell_type": "code",
      "metadata": {
        "id": "L1172_tGsncB",
        "colab": {
          "base_uri": "https://localhost:8080/",
          "height": 202
        },
        "outputId": "c4554198-63a2-4eea-b583-31f9328f4e35"
      },
      "source": [
        "# Remove the uncommon features from the training data\n",
        "df_train = df_train.drop(columns=uncommon_feature_train_not_val_test)\n",
        "\n",
        "# Print the first 5 rows of df_train\n",
        "df_train.head()"
      ],
      "execution_count": 19,
      "outputs": [
        {
          "output_type": "execute_result",
          "data": {
            "text/html": [
              "<div>\n",
              "<style scoped>\n",
              "    .dataframe tbody tr th:only-of-type {\n",
              "        vertical-align: middle;\n",
              "    }\n",
              "\n",
              "    .dataframe tbody tr th {\n",
              "        vertical-align: top;\n",
              "    }\n",
              "\n",
              "    .dataframe thead th {\n",
              "        text-align: right;\n",
              "    }\n",
              "</style>\n",
              "<table border=\"1\" class=\"dataframe\">\n",
              "  <thead>\n",
              "    <tr style=\"text-align: right;\">\n",
              "      <th></th>\n",
              "      <th>id</th>\n",
              "      <th>vendor_id</th>\n",
              "      <th>pickup_datetime</th>\n",
              "      <th>passenger_count</th>\n",
              "      <th>pickup_longitude</th>\n",
              "      <th>pickup_latitude</th>\n",
              "      <th>dropoff_longitude</th>\n",
              "      <th>dropoff_latitude</th>\n",
              "      <th>store_and_fwd_flag</th>\n",
              "      <th>trip_duration</th>\n",
              "    </tr>\n",
              "  </thead>\n",
              "  <tbody>\n",
              "    <tr>\n",
              "      <th>0</th>\n",
              "      <td>id0458976</td>\n",
              "      <td>2</td>\n",
              "      <td>2016-06-29 18:21:02</td>\n",
              "      <td>1</td>\n",
              "      <td>-73.862762</td>\n",
              "      <td>40.768822</td>\n",
              "      <td>-73.891701</td>\n",
              "      <td>40.746689</td>\n",
              "      <td>N</td>\n",
              "      <td>1133</td>\n",
              "    </tr>\n",
              "    <tr>\n",
              "      <th>1</th>\n",
              "      <td>id0434613</td>\n",
              "      <td>2</td>\n",
              "      <td>2016-04-25 13:03:26</td>\n",
              "      <td>1</td>\n",
              "      <td>-73.958038</td>\n",
              "      <td>40.783237</td>\n",
              "      <td>-73.975510</td>\n",
              "      <td>40.760853</td>\n",
              "      <td>N</td>\n",
              "      <td>887</td>\n",
              "    </tr>\n",
              "    <tr>\n",
              "      <th>2</th>\n",
              "      <td>id3809234</td>\n",
              "      <td>2</td>\n",
              "      <td>2016-05-07 12:36:09</td>\n",
              "      <td>1</td>\n",
              "      <td>-73.969460</td>\n",
              "      <td>40.785519</td>\n",
              "      <td>-73.989243</td>\n",
              "      <td>40.771748</td>\n",
              "      <td>N</td>\n",
              "      <td>686</td>\n",
              "    </tr>\n",
              "    <tr>\n",
              "      <th>3</th>\n",
              "      <td>id1203705</td>\n",
              "      <td>1</td>\n",
              "      <td>2016-05-14 18:44:17</td>\n",
              "      <td>1</td>\n",
              "      <td>-73.981743</td>\n",
              "      <td>40.736549</td>\n",
              "      <td>-73.998352</td>\n",
              "      <td>40.726440</td>\n",
              "      <td>N</td>\n",
              "      <td>818</td>\n",
              "    </tr>\n",
              "    <tr>\n",
              "      <th>4</th>\n",
              "      <td>id1896645</td>\n",
              "      <td>2</td>\n",
              "      <td>2016-04-10 22:51:25</td>\n",
              "      <td>1</td>\n",
              "      <td>-73.977913</td>\n",
              "      <td>40.752609</td>\n",
              "      <td>-73.975647</td>\n",
              "      <td>40.733139</td>\n",
              "      <td>N</td>\n",
              "      <td>951</td>\n",
              "    </tr>\n",
              "  </tbody>\n",
              "</table>\n",
              "</div>"
            ],
            "text/plain": [
              "          id  vendor_id  ... store_and_fwd_flag  trip_duration\n",
              "0  id0458976          2  ...                  N           1133\n",
              "1  id0434613          2  ...                  N            887\n",
              "2  id3809234          2  ...                  N            686\n",
              "3  id1203705          1  ...                  N            818\n",
              "4  id1896645          2  ...                  N            951\n",
              "\n",
              "[5 rows x 10 columns]"
            ]
          },
          "metadata": {
            "tags": []
          },
          "execution_count": 19
        }
      ]
    },
    {
      "cell_type": "code",
      "metadata": {
        "id": "dF4oSYI0sukh",
        "colab": {
          "base_uri": "https://localhost:8080/",
          "height": 202
        },
        "outputId": "67a5448a-6e1d-467d-8794-393c0176ba18"
      },
      "source": [
        "# Remove the uncommon features from the validation data\n",
        "df_val = df_val.drop(columns=uncommon_feature_val_not_train_test)\n",
        "\n",
        "# Print the first 5 rows of df_val\n",
        "df_val.head()"
      ],
      "execution_count": 20,
      "outputs": [
        {
          "output_type": "execute_result",
          "data": {
            "text/html": [
              "<div>\n",
              "<style scoped>\n",
              "    .dataframe tbody tr th:only-of-type {\n",
              "        vertical-align: middle;\n",
              "    }\n",
              "\n",
              "    .dataframe tbody tr th {\n",
              "        vertical-align: top;\n",
              "    }\n",
              "\n",
              "    .dataframe thead th {\n",
              "        text-align: right;\n",
              "    }\n",
              "</style>\n",
              "<table border=\"1\" class=\"dataframe\">\n",
              "  <thead>\n",
              "    <tr style=\"text-align: right;\">\n",
              "      <th></th>\n",
              "      <th>id</th>\n",
              "      <th>vendor_id</th>\n",
              "      <th>pickup_datetime</th>\n",
              "      <th>passenger_count</th>\n",
              "      <th>pickup_longitude</th>\n",
              "      <th>pickup_latitude</th>\n",
              "      <th>dropoff_longitude</th>\n",
              "      <th>dropoff_latitude</th>\n",
              "      <th>store_and_fwd_flag</th>\n",
              "      <th>trip_duration</th>\n",
              "    </tr>\n",
              "  </thead>\n",
              "  <tbody>\n",
              "    <tr>\n",
              "      <th>0</th>\n",
              "      <td>id2793718</td>\n",
              "      <td>2</td>\n",
              "      <td>2016-06-08 07:36:19</td>\n",
              "      <td>1</td>\n",
              "      <td>-73.985611</td>\n",
              "      <td>40.735943</td>\n",
              "      <td>-73.980331</td>\n",
              "      <td>40.760468</td>\n",
              "      <td>N</td>\n",
              "      <td>1040</td>\n",
              "    </tr>\n",
              "    <tr>\n",
              "      <th>1</th>\n",
              "      <td>id3485529</td>\n",
              "      <td>2</td>\n",
              "      <td>2016-04-03 12:58:11</td>\n",
              "      <td>1</td>\n",
              "      <td>-73.978394</td>\n",
              "      <td>40.764351</td>\n",
              "      <td>-73.991623</td>\n",
              "      <td>40.749859</td>\n",
              "      <td>N</td>\n",
              "      <td>827</td>\n",
              "    </tr>\n",
              "    <tr>\n",
              "      <th>2</th>\n",
              "      <td>id1816614</td>\n",
              "      <td>2</td>\n",
              "      <td>2016-06-05 02:49:13</td>\n",
              "      <td>5</td>\n",
              "      <td>-73.989059</td>\n",
              "      <td>40.744389</td>\n",
              "      <td>-73.973381</td>\n",
              "      <td>40.748692</td>\n",
              "      <td>N</td>\n",
              "      <td>614</td>\n",
              "    </tr>\n",
              "    <tr>\n",
              "      <th>3</th>\n",
              "      <td>id1050851</td>\n",
              "      <td>2</td>\n",
              "      <td>2016-05-05 17:18:27</td>\n",
              "      <td>2</td>\n",
              "      <td>-73.990326</td>\n",
              "      <td>40.731136</td>\n",
              "      <td>-73.991264</td>\n",
              "      <td>40.748917</td>\n",
              "      <td>N</td>\n",
              "      <td>867</td>\n",
              "    </tr>\n",
              "    <tr>\n",
              "      <th>4</th>\n",
              "      <td>id0140657</td>\n",
              "      <td>1</td>\n",
              "      <td>2016-05-12 17:43:38</td>\n",
              "      <td>4</td>\n",
              "      <td>-73.789497</td>\n",
              "      <td>40.646675</td>\n",
              "      <td>-73.987137</td>\n",
              "      <td>40.759232</td>\n",
              "      <td>N</td>\n",
              "      <td>4967</td>\n",
              "    </tr>\n",
              "  </tbody>\n",
              "</table>\n",
              "</div>"
            ],
            "text/plain": [
              "          id  vendor_id  ... store_and_fwd_flag  trip_duration\n",
              "0  id2793718          2  ...                  N           1040\n",
              "1  id3485529          2  ...                  N            827\n",
              "2  id1816614          2  ...                  N            614\n",
              "3  id1050851          2  ...                  N            867\n",
              "4  id0140657          1  ...                  N           4967\n",
              "\n",
              "[5 rows x 10 columns]"
            ]
          },
          "metadata": {
            "tags": []
          },
          "execution_count": 20
        }
      ]
    },
    {
      "cell_type": "code",
      "metadata": {
        "id": "u4uCXYsrsyJw",
        "colab": {
          "base_uri": "https://localhost:8080/",
          "height": 202
        },
        "outputId": "5d808492-dc38-47a8-ba03-a36c67faf4ec"
      },
      "source": [
        "# Remove the uncommon features from the test data\n",
        "df_test = df_test.drop(columns=uncommon_feature_test_not_train_val)\n",
        "\n",
        "# Print the first 5 rows of df_test\n",
        "df_test.head()"
      ],
      "execution_count": 21,
      "outputs": [
        {
          "output_type": "execute_result",
          "data": {
            "text/html": [
              "<div>\n",
              "<style scoped>\n",
              "    .dataframe tbody tr th:only-of-type {\n",
              "        vertical-align: middle;\n",
              "    }\n",
              "\n",
              "    .dataframe tbody tr th {\n",
              "        vertical-align: top;\n",
              "    }\n",
              "\n",
              "    .dataframe thead th {\n",
              "        text-align: right;\n",
              "    }\n",
              "</style>\n",
              "<table border=\"1\" class=\"dataframe\">\n",
              "  <thead>\n",
              "    <tr style=\"text-align: right;\">\n",
              "      <th></th>\n",
              "      <th>id</th>\n",
              "      <th>vendor_id</th>\n",
              "      <th>pickup_datetime</th>\n",
              "      <th>passenger_count</th>\n",
              "      <th>pickup_longitude</th>\n",
              "      <th>pickup_latitude</th>\n",
              "      <th>dropoff_longitude</th>\n",
              "      <th>dropoff_latitude</th>\n",
              "      <th>store_and_fwd_flag</th>\n",
              "    </tr>\n",
              "  </thead>\n",
              "  <tbody>\n",
              "    <tr>\n",
              "      <th>0</th>\n",
              "      <td>id3004672</td>\n",
              "      <td>1</td>\n",
              "      <td>2016-06-30 23:59:58</td>\n",
              "      <td>1</td>\n",
              "      <td>-73.988129</td>\n",
              "      <td>40.732029</td>\n",
              "      <td>-73.990173</td>\n",
              "      <td>40.756680</td>\n",
              "      <td>N</td>\n",
              "    </tr>\n",
              "    <tr>\n",
              "      <th>1</th>\n",
              "      <td>id3505355</td>\n",
              "      <td>1</td>\n",
              "      <td>2016-06-30 23:59:53</td>\n",
              "      <td>1</td>\n",
              "      <td>-73.964203</td>\n",
              "      <td>40.679993</td>\n",
              "      <td>-73.959808</td>\n",
              "      <td>40.655403</td>\n",
              "      <td>N</td>\n",
              "    </tr>\n",
              "    <tr>\n",
              "      <th>2</th>\n",
              "      <td>id1217141</td>\n",
              "      <td>1</td>\n",
              "      <td>2016-06-30 23:59:47</td>\n",
              "      <td>1</td>\n",
              "      <td>-73.997437</td>\n",
              "      <td>40.737583</td>\n",
              "      <td>-73.986160</td>\n",
              "      <td>40.729523</td>\n",
              "      <td>N</td>\n",
              "    </tr>\n",
              "    <tr>\n",
              "      <th>3</th>\n",
              "      <td>id2150126</td>\n",
              "      <td>2</td>\n",
              "      <td>2016-06-30 23:59:41</td>\n",
              "      <td>1</td>\n",
              "      <td>-73.956070</td>\n",
              "      <td>40.771900</td>\n",
              "      <td>-73.986427</td>\n",
              "      <td>40.730469</td>\n",
              "      <td>N</td>\n",
              "    </tr>\n",
              "    <tr>\n",
              "      <th>4</th>\n",
              "      <td>id1598245</td>\n",
              "      <td>1</td>\n",
              "      <td>2016-06-30 23:59:33</td>\n",
              "      <td>1</td>\n",
              "      <td>-73.970215</td>\n",
              "      <td>40.761475</td>\n",
              "      <td>-73.961510</td>\n",
              "      <td>40.755890</td>\n",
              "      <td>N</td>\n",
              "    </tr>\n",
              "  </tbody>\n",
              "</table>\n",
              "</div>"
            ],
            "text/plain": [
              "          id  vendor_id  ... dropoff_latitude  store_and_fwd_flag\n",
              "0  id3004672          1  ...        40.756680                   N\n",
              "1  id3505355          1  ...        40.655403                   N\n",
              "2  id1217141          1  ...        40.729523                   N\n",
              "3  id2150126          2  ...        40.730469                   N\n",
              "4  id1598245          1  ...        40.755890                   N\n",
              "\n",
              "[5 rows x 9 columns]"
            ]
          },
          "metadata": {
            "tags": []
          },
          "execution_count": 21
        }
      ]
    },
    {
      "cell_type": "markdown",
      "metadata": {
        "id": "3RmFWd8st9vM"
      },
      "source": [
        "### **Handling Identifiers**"
      ]
    },
    {
      "cell_type": "code",
      "metadata": {
        "id": "eiTCQ0hTuDCh"
      },
      "source": [
        "# Combine df_train, df_val and df_test\n",
        "df = pd.concat([df_train, df_val, df_test], sort=False)"
      ],
      "execution_count": 22,
      "outputs": []
    },
    {
      "cell_type": "code",
      "metadata": {
        "id": "HDNaH7oet4Z1",
        "colab": {
          "base_uri": "https://localhost:8080/",
          "height": 202
        },
        "outputId": "9c1dac7e-d722-49ca-9d08-e5235e590d8d"
      },
      "source": [
        "# Call id_checker on df\n",
        "# See the implementation in pmlm_utilities.ipynb\n",
        "df_id = id_checker(df)\n",
        "\n",
        "# Print the first 5 rows of df_id\n",
        "df_id.head()"
      ],
      "execution_count": 23,
      "outputs": [
        {
          "output_type": "execute_result",
          "data": {
            "text/html": [
              "<div>\n",
              "<style scoped>\n",
              "    .dataframe tbody tr th:only-of-type {\n",
              "        vertical-align: middle;\n",
              "    }\n",
              "\n",
              "    .dataframe tbody tr th {\n",
              "        vertical-align: top;\n",
              "    }\n",
              "\n",
              "    .dataframe thead th {\n",
              "        text-align: right;\n",
              "    }\n",
              "</style>\n",
              "<table border=\"1\" class=\"dataframe\">\n",
              "  <thead>\n",
              "    <tr style=\"text-align: right;\">\n",
              "      <th></th>\n",
              "      <th>id</th>\n",
              "    </tr>\n",
              "  </thead>\n",
              "  <tbody>\n",
              "    <tr>\n",
              "      <th>0</th>\n",
              "      <td>id0458976</td>\n",
              "    </tr>\n",
              "    <tr>\n",
              "      <th>1</th>\n",
              "      <td>id0434613</td>\n",
              "    </tr>\n",
              "    <tr>\n",
              "      <th>2</th>\n",
              "      <td>id3809234</td>\n",
              "    </tr>\n",
              "    <tr>\n",
              "      <th>3</th>\n",
              "      <td>id1203705</td>\n",
              "    </tr>\n",
              "    <tr>\n",
              "      <th>4</th>\n",
              "      <td>id1896645</td>\n",
              "    </tr>\n",
              "  </tbody>\n",
              "</table>\n",
              "</div>"
            ],
            "text/plain": [
              "          id\n",
              "0  id0458976\n",
              "1  id0434613\n",
              "2  id3809234\n",
              "3  id1203705\n",
              "4  id1896645"
            ]
          },
          "metadata": {
            "tags": []
          },
          "execution_count": 23
        }
      ]
    },
    {
      "cell_type": "code",
      "metadata": {
        "id": "2HLjfRr9t1kN"
      },
      "source": [
        "import numpy as np\n",
        "\n",
        "# Remove identifiers from df_train\n",
        "df_train.drop(columns=np.intersect1d(df_id.columns, df_train.columns), inplace=True)\n",
        "\n",
        "# Remove identifiers from df_val\n",
        "df_val.drop(columns=np.intersect1d(df_id.columns, df_val.columns), inplace=True)\n",
        "\n",
        "# Remove identifiers from df_test\n",
        "df_test.drop(columns=np.intersect1d(df_id.columns, df_test.columns), inplace=True)"
      ],
      "execution_count": 24,
      "outputs": []
    },
    {
      "cell_type": "code",
      "metadata": {
        "id": "XlmY8W5jvgxf",
        "colab": {
          "base_uri": "https://localhost:8080/",
          "height": 202
        },
        "outputId": "12873d14-8513-4555-9309-206770d6163c"
      },
      "source": [
        "# Print the first 5 rows of df_train\n",
        "df_train.head()"
      ],
      "execution_count": 25,
      "outputs": [
        {
          "output_type": "execute_result",
          "data": {
            "text/html": [
              "<div>\n",
              "<style scoped>\n",
              "    .dataframe tbody tr th:only-of-type {\n",
              "        vertical-align: middle;\n",
              "    }\n",
              "\n",
              "    .dataframe tbody tr th {\n",
              "        vertical-align: top;\n",
              "    }\n",
              "\n",
              "    .dataframe thead th {\n",
              "        text-align: right;\n",
              "    }\n",
              "</style>\n",
              "<table border=\"1\" class=\"dataframe\">\n",
              "  <thead>\n",
              "    <tr style=\"text-align: right;\">\n",
              "      <th></th>\n",
              "      <th>vendor_id</th>\n",
              "      <th>pickup_datetime</th>\n",
              "      <th>passenger_count</th>\n",
              "      <th>pickup_longitude</th>\n",
              "      <th>pickup_latitude</th>\n",
              "      <th>dropoff_longitude</th>\n",
              "      <th>dropoff_latitude</th>\n",
              "      <th>store_and_fwd_flag</th>\n",
              "      <th>trip_duration</th>\n",
              "    </tr>\n",
              "  </thead>\n",
              "  <tbody>\n",
              "    <tr>\n",
              "      <th>0</th>\n",
              "      <td>2</td>\n",
              "      <td>2016-06-29 18:21:02</td>\n",
              "      <td>1</td>\n",
              "      <td>-73.862762</td>\n",
              "      <td>40.768822</td>\n",
              "      <td>-73.891701</td>\n",
              "      <td>40.746689</td>\n",
              "      <td>N</td>\n",
              "      <td>1133</td>\n",
              "    </tr>\n",
              "    <tr>\n",
              "      <th>1</th>\n",
              "      <td>2</td>\n",
              "      <td>2016-04-25 13:03:26</td>\n",
              "      <td>1</td>\n",
              "      <td>-73.958038</td>\n",
              "      <td>40.783237</td>\n",
              "      <td>-73.975510</td>\n",
              "      <td>40.760853</td>\n",
              "      <td>N</td>\n",
              "      <td>887</td>\n",
              "    </tr>\n",
              "    <tr>\n",
              "      <th>2</th>\n",
              "      <td>2</td>\n",
              "      <td>2016-05-07 12:36:09</td>\n",
              "      <td>1</td>\n",
              "      <td>-73.969460</td>\n",
              "      <td>40.785519</td>\n",
              "      <td>-73.989243</td>\n",
              "      <td>40.771748</td>\n",
              "      <td>N</td>\n",
              "      <td>686</td>\n",
              "    </tr>\n",
              "    <tr>\n",
              "      <th>3</th>\n",
              "      <td>1</td>\n",
              "      <td>2016-05-14 18:44:17</td>\n",
              "      <td>1</td>\n",
              "      <td>-73.981743</td>\n",
              "      <td>40.736549</td>\n",
              "      <td>-73.998352</td>\n",
              "      <td>40.726440</td>\n",
              "      <td>N</td>\n",
              "      <td>818</td>\n",
              "    </tr>\n",
              "    <tr>\n",
              "      <th>4</th>\n",
              "      <td>2</td>\n",
              "      <td>2016-04-10 22:51:25</td>\n",
              "      <td>1</td>\n",
              "      <td>-73.977913</td>\n",
              "      <td>40.752609</td>\n",
              "      <td>-73.975647</td>\n",
              "      <td>40.733139</td>\n",
              "      <td>N</td>\n",
              "      <td>951</td>\n",
              "    </tr>\n",
              "  </tbody>\n",
              "</table>\n",
              "</div>"
            ],
            "text/plain": [
              "   vendor_id      pickup_datetime  ...  store_and_fwd_flag  trip_duration\n",
              "0          2  2016-06-29 18:21:02  ...                   N           1133\n",
              "1          2  2016-04-25 13:03:26  ...                   N            887\n",
              "2          2  2016-05-07 12:36:09  ...                   N            686\n",
              "3          1  2016-05-14 18:44:17  ...                   N            818\n",
              "4          2  2016-04-10 22:51:25  ...                   N            951\n",
              "\n",
              "[5 rows x 9 columns]"
            ]
          },
          "metadata": {
            "tags": []
          },
          "execution_count": 25
        }
      ]
    },
    {
      "cell_type": "code",
      "metadata": {
        "id": "JORUHt8YvoHy",
        "colab": {
          "base_uri": "https://localhost:8080/",
          "height": 202
        },
        "outputId": "abf3e419-b1d5-4c6f-adb1-8933b5f0957d"
      },
      "source": [
        "# Print the first 5 rows of df_val\n",
        "df_val.head()"
      ],
      "execution_count": 26,
      "outputs": [
        {
          "output_type": "execute_result",
          "data": {
            "text/html": [
              "<div>\n",
              "<style scoped>\n",
              "    .dataframe tbody tr th:only-of-type {\n",
              "        vertical-align: middle;\n",
              "    }\n",
              "\n",
              "    .dataframe tbody tr th {\n",
              "        vertical-align: top;\n",
              "    }\n",
              "\n",
              "    .dataframe thead th {\n",
              "        text-align: right;\n",
              "    }\n",
              "</style>\n",
              "<table border=\"1\" class=\"dataframe\">\n",
              "  <thead>\n",
              "    <tr style=\"text-align: right;\">\n",
              "      <th></th>\n",
              "      <th>vendor_id</th>\n",
              "      <th>pickup_datetime</th>\n",
              "      <th>passenger_count</th>\n",
              "      <th>pickup_longitude</th>\n",
              "      <th>pickup_latitude</th>\n",
              "      <th>dropoff_longitude</th>\n",
              "      <th>dropoff_latitude</th>\n",
              "      <th>store_and_fwd_flag</th>\n",
              "      <th>trip_duration</th>\n",
              "    </tr>\n",
              "  </thead>\n",
              "  <tbody>\n",
              "    <tr>\n",
              "      <th>0</th>\n",
              "      <td>2</td>\n",
              "      <td>2016-06-08 07:36:19</td>\n",
              "      <td>1</td>\n",
              "      <td>-73.985611</td>\n",
              "      <td>40.735943</td>\n",
              "      <td>-73.980331</td>\n",
              "      <td>40.760468</td>\n",
              "      <td>N</td>\n",
              "      <td>1040</td>\n",
              "    </tr>\n",
              "    <tr>\n",
              "      <th>1</th>\n",
              "      <td>2</td>\n",
              "      <td>2016-04-03 12:58:11</td>\n",
              "      <td>1</td>\n",
              "      <td>-73.978394</td>\n",
              "      <td>40.764351</td>\n",
              "      <td>-73.991623</td>\n",
              "      <td>40.749859</td>\n",
              "      <td>N</td>\n",
              "      <td>827</td>\n",
              "    </tr>\n",
              "    <tr>\n",
              "      <th>2</th>\n",
              "      <td>2</td>\n",
              "      <td>2016-06-05 02:49:13</td>\n",
              "      <td>5</td>\n",
              "      <td>-73.989059</td>\n",
              "      <td>40.744389</td>\n",
              "      <td>-73.973381</td>\n",
              "      <td>40.748692</td>\n",
              "      <td>N</td>\n",
              "      <td>614</td>\n",
              "    </tr>\n",
              "    <tr>\n",
              "      <th>3</th>\n",
              "      <td>2</td>\n",
              "      <td>2016-05-05 17:18:27</td>\n",
              "      <td>2</td>\n",
              "      <td>-73.990326</td>\n",
              "      <td>40.731136</td>\n",
              "      <td>-73.991264</td>\n",
              "      <td>40.748917</td>\n",
              "      <td>N</td>\n",
              "      <td>867</td>\n",
              "    </tr>\n",
              "    <tr>\n",
              "      <th>4</th>\n",
              "      <td>1</td>\n",
              "      <td>2016-05-12 17:43:38</td>\n",
              "      <td>4</td>\n",
              "      <td>-73.789497</td>\n",
              "      <td>40.646675</td>\n",
              "      <td>-73.987137</td>\n",
              "      <td>40.759232</td>\n",
              "      <td>N</td>\n",
              "      <td>4967</td>\n",
              "    </tr>\n",
              "  </tbody>\n",
              "</table>\n",
              "</div>"
            ],
            "text/plain": [
              "   vendor_id      pickup_datetime  ...  store_and_fwd_flag  trip_duration\n",
              "0          2  2016-06-08 07:36:19  ...                   N           1040\n",
              "1          2  2016-04-03 12:58:11  ...                   N            827\n",
              "2          2  2016-06-05 02:49:13  ...                   N            614\n",
              "3          2  2016-05-05 17:18:27  ...                   N            867\n",
              "4          1  2016-05-12 17:43:38  ...                   N           4967\n",
              "\n",
              "[5 rows x 9 columns]"
            ]
          },
          "metadata": {
            "tags": []
          },
          "execution_count": 26
        }
      ]
    },
    {
      "cell_type": "code",
      "metadata": {
        "id": "Ox6XU9aUvs0D",
        "colab": {
          "base_uri": "https://localhost:8080/",
          "height": 202
        },
        "outputId": "4b66c6d1-8b07-4365-ba59-8a4aa61d5bd5"
      },
      "source": [
        "# Print the first 5 rows of df_test\n",
        "df_test.head()"
      ],
      "execution_count": 27,
      "outputs": [
        {
          "output_type": "execute_result",
          "data": {
            "text/html": [
              "<div>\n",
              "<style scoped>\n",
              "    .dataframe tbody tr th:only-of-type {\n",
              "        vertical-align: middle;\n",
              "    }\n",
              "\n",
              "    .dataframe tbody tr th {\n",
              "        vertical-align: top;\n",
              "    }\n",
              "\n",
              "    .dataframe thead th {\n",
              "        text-align: right;\n",
              "    }\n",
              "</style>\n",
              "<table border=\"1\" class=\"dataframe\">\n",
              "  <thead>\n",
              "    <tr style=\"text-align: right;\">\n",
              "      <th></th>\n",
              "      <th>vendor_id</th>\n",
              "      <th>pickup_datetime</th>\n",
              "      <th>passenger_count</th>\n",
              "      <th>pickup_longitude</th>\n",
              "      <th>pickup_latitude</th>\n",
              "      <th>dropoff_longitude</th>\n",
              "      <th>dropoff_latitude</th>\n",
              "      <th>store_and_fwd_flag</th>\n",
              "    </tr>\n",
              "  </thead>\n",
              "  <tbody>\n",
              "    <tr>\n",
              "      <th>0</th>\n",
              "      <td>1</td>\n",
              "      <td>2016-06-30 23:59:58</td>\n",
              "      <td>1</td>\n",
              "      <td>-73.988129</td>\n",
              "      <td>40.732029</td>\n",
              "      <td>-73.990173</td>\n",
              "      <td>40.756680</td>\n",
              "      <td>N</td>\n",
              "    </tr>\n",
              "    <tr>\n",
              "      <th>1</th>\n",
              "      <td>1</td>\n",
              "      <td>2016-06-30 23:59:53</td>\n",
              "      <td>1</td>\n",
              "      <td>-73.964203</td>\n",
              "      <td>40.679993</td>\n",
              "      <td>-73.959808</td>\n",
              "      <td>40.655403</td>\n",
              "      <td>N</td>\n",
              "    </tr>\n",
              "    <tr>\n",
              "      <th>2</th>\n",
              "      <td>1</td>\n",
              "      <td>2016-06-30 23:59:47</td>\n",
              "      <td>1</td>\n",
              "      <td>-73.997437</td>\n",
              "      <td>40.737583</td>\n",
              "      <td>-73.986160</td>\n",
              "      <td>40.729523</td>\n",
              "      <td>N</td>\n",
              "    </tr>\n",
              "    <tr>\n",
              "      <th>3</th>\n",
              "      <td>2</td>\n",
              "      <td>2016-06-30 23:59:41</td>\n",
              "      <td>1</td>\n",
              "      <td>-73.956070</td>\n",
              "      <td>40.771900</td>\n",
              "      <td>-73.986427</td>\n",
              "      <td>40.730469</td>\n",
              "      <td>N</td>\n",
              "    </tr>\n",
              "    <tr>\n",
              "      <th>4</th>\n",
              "      <td>1</td>\n",
              "      <td>2016-06-30 23:59:33</td>\n",
              "      <td>1</td>\n",
              "      <td>-73.970215</td>\n",
              "      <td>40.761475</td>\n",
              "      <td>-73.961510</td>\n",
              "      <td>40.755890</td>\n",
              "      <td>N</td>\n",
              "    </tr>\n",
              "  </tbody>\n",
              "</table>\n",
              "</div>"
            ],
            "text/plain": [
              "   vendor_id      pickup_datetime  ...  dropoff_latitude  store_and_fwd_flag\n",
              "0          1  2016-06-30 23:59:58  ...         40.756680                   N\n",
              "1          1  2016-06-30 23:59:53  ...         40.655403                   N\n",
              "2          1  2016-06-30 23:59:47  ...         40.729523                   N\n",
              "3          2  2016-06-30 23:59:41  ...         40.730469                   N\n",
              "4          1  2016-06-30 23:59:33  ...         40.755890                   N\n",
              "\n",
              "[5 rows x 8 columns]"
            ]
          },
          "metadata": {
            "tags": []
          },
          "execution_count": 27
        }
      ]
    },
    {
      "cell_type": "markdown",
      "metadata": {
        "id": "Ee6ayUTLwZVe"
      },
      "source": [
        "### **Handling date time variables**"
      ]
    },
    {
      "cell_type": "code",
      "metadata": {
        "id": "YFAY2NOwwpot"
      },
      "source": [
        "# Get the date time variables\n",
        "datetime_vars = ['pickup_datetime']"
      ],
      "execution_count": 28,
      "outputs": []
    },
    {
      "cell_type": "code",
      "metadata": {
        "id": "il3yJk9jws5Y",
        "colab": {
          "base_uri": "https://localhost:8080/",
          "height": 222
        },
        "outputId": "b116da20-63b0-49f6-80e1-cc7d431083bf"
      },
      "source": [
        "# Call datetime_transformer on df_train\n",
        "# See the implementation in pmlm_utilities.ipynb\n",
        "df_train = datetime_transformer(df_train, datetime_vars)\n",
        "\n",
        "# Print the first 5 rows of df_train\n",
        "df_train.head()"
      ],
      "execution_count": 29,
      "outputs": [
        {
          "output_type": "execute_result",
          "data": {
            "text/html": [
              "<div>\n",
              "<style scoped>\n",
              "    .dataframe tbody tr th:only-of-type {\n",
              "        vertical-align: middle;\n",
              "    }\n",
              "\n",
              "    .dataframe tbody tr th {\n",
              "        vertical-align: top;\n",
              "    }\n",
              "\n",
              "    .dataframe thead th {\n",
              "        text-align: right;\n",
              "    }\n",
              "</style>\n",
              "<table border=\"1\" class=\"dataframe\">\n",
              "  <thead>\n",
              "    <tr style=\"text-align: right;\">\n",
              "      <th></th>\n",
              "      <th>vendor_id</th>\n",
              "      <th>passenger_count</th>\n",
              "      <th>pickup_longitude</th>\n",
              "      <th>pickup_latitude</th>\n",
              "      <th>dropoff_longitude</th>\n",
              "      <th>dropoff_latitude</th>\n",
              "      <th>store_and_fwd_flag</th>\n",
              "      <th>trip_duration</th>\n",
              "      <th>pickup_datetime_year</th>\n",
              "      <th>pickup_datetime_month</th>\n",
              "      <th>pickup_datetime_day</th>\n",
              "      <th>pickup_datetime_hour</th>\n",
              "      <th>pickup_datetime_minute</th>\n",
              "      <th>pickup_datetime_second</th>\n",
              "    </tr>\n",
              "  </thead>\n",
              "  <tbody>\n",
              "    <tr>\n",
              "      <th>0</th>\n",
              "      <td>2</td>\n",
              "      <td>1</td>\n",
              "      <td>-73.862762</td>\n",
              "      <td>40.768822</td>\n",
              "      <td>-73.891701</td>\n",
              "      <td>40.746689</td>\n",
              "      <td>N</td>\n",
              "      <td>1133</td>\n",
              "      <td>2016</td>\n",
              "      <td>6</td>\n",
              "      <td>29</td>\n",
              "      <td>18</td>\n",
              "      <td>21</td>\n",
              "      <td>2</td>\n",
              "    </tr>\n",
              "    <tr>\n",
              "      <th>1</th>\n",
              "      <td>2</td>\n",
              "      <td>1</td>\n",
              "      <td>-73.958038</td>\n",
              "      <td>40.783237</td>\n",
              "      <td>-73.975510</td>\n",
              "      <td>40.760853</td>\n",
              "      <td>N</td>\n",
              "      <td>887</td>\n",
              "      <td>2016</td>\n",
              "      <td>4</td>\n",
              "      <td>25</td>\n",
              "      <td>13</td>\n",
              "      <td>3</td>\n",
              "      <td>26</td>\n",
              "    </tr>\n",
              "    <tr>\n",
              "      <th>2</th>\n",
              "      <td>2</td>\n",
              "      <td>1</td>\n",
              "      <td>-73.969460</td>\n",
              "      <td>40.785519</td>\n",
              "      <td>-73.989243</td>\n",
              "      <td>40.771748</td>\n",
              "      <td>N</td>\n",
              "      <td>686</td>\n",
              "      <td>2016</td>\n",
              "      <td>5</td>\n",
              "      <td>7</td>\n",
              "      <td>12</td>\n",
              "      <td>36</td>\n",
              "      <td>9</td>\n",
              "    </tr>\n",
              "    <tr>\n",
              "      <th>3</th>\n",
              "      <td>1</td>\n",
              "      <td>1</td>\n",
              "      <td>-73.981743</td>\n",
              "      <td>40.736549</td>\n",
              "      <td>-73.998352</td>\n",
              "      <td>40.726440</td>\n",
              "      <td>N</td>\n",
              "      <td>818</td>\n",
              "      <td>2016</td>\n",
              "      <td>5</td>\n",
              "      <td>14</td>\n",
              "      <td>18</td>\n",
              "      <td>44</td>\n",
              "      <td>17</td>\n",
              "    </tr>\n",
              "    <tr>\n",
              "      <th>4</th>\n",
              "      <td>2</td>\n",
              "      <td>1</td>\n",
              "      <td>-73.977913</td>\n",
              "      <td>40.752609</td>\n",
              "      <td>-73.975647</td>\n",
              "      <td>40.733139</td>\n",
              "      <td>N</td>\n",
              "      <td>951</td>\n",
              "      <td>2016</td>\n",
              "      <td>4</td>\n",
              "      <td>10</td>\n",
              "      <td>22</td>\n",
              "      <td>51</td>\n",
              "      <td>25</td>\n",
              "    </tr>\n",
              "  </tbody>\n",
              "</table>\n",
              "</div>"
            ],
            "text/plain": [
              "   vendor_id  passenger_count  ...  pickup_datetime_minute  pickup_datetime_second\n",
              "0          2                1  ...                      21                       2\n",
              "1          2                1  ...                       3                      26\n",
              "2          2                1  ...                      36                       9\n",
              "3          1                1  ...                      44                      17\n",
              "4          2                1  ...                      51                      25\n",
              "\n",
              "[5 rows x 14 columns]"
            ]
          },
          "metadata": {
            "tags": []
          },
          "execution_count": 29
        }
      ]
    },
    {
      "cell_type": "code",
      "metadata": {
        "id": "egSZ3Vm_w0Mb",
        "colab": {
          "base_uri": "https://localhost:8080/",
          "height": 222
        },
        "outputId": "8dd5f9b6-32f8-4be8-954c-2d4fd278075f"
      },
      "source": [
        "# Call datetime_transformer on df_val\n",
        "# See the implementation in pmlm_utilities.ipynb\n",
        "df_val = datetime_transformer(df_val, datetime_vars)\n",
        "\n",
        "# Print the first 5 rows of df_val\n",
        "df_val.head()"
      ],
      "execution_count": 30,
      "outputs": [
        {
          "output_type": "execute_result",
          "data": {
            "text/html": [
              "<div>\n",
              "<style scoped>\n",
              "    .dataframe tbody tr th:only-of-type {\n",
              "        vertical-align: middle;\n",
              "    }\n",
              "\n",
              "    .dataframe tbody tr th {\n",
              "        vertical-align: top;\n",
              "    }\n",
              "\n",
              "    .dataframe thead th {\n",
              "        text-align: right;\n",
              "    }\n",
              "</style>\n",
              "<table border=\"1\" class=\"dataframe\">\n",
              "  <thead>\n",
              "    <tr style=\"text-align: right;\">\n",
              "      <th></th>\n",
              "      <th>vendor_id</th>\n",
              "      <th>passenger_count</th>\n",
              "      <th>pickup_longitude</th>\n",
              "      <th>pickup_latitude</th>\n",
              "      <th>dropoff_longitude</th>\n",
              "      <th>dropoff_latitude</th>\n",
              "      <th>store_and_fwd_flag</th>\n",
              "      <th>trip_duration</th>\n",
              "      <th>pickup_datetime_year</th>\n",
              "      <th>pickup_datetime_month</th>\n",
              "      <th>pickup_datetime_day</th>\n",
              "      <th>pickup_datetime_hour</th>\n",
              "      <th>pickup_datetime_minute</th>\n",
              "      <th>pickup_datetime_second</th>\n",
              "    </tr>\n",
              "  </thead>\n",
              "  <tbody>\n",
              "    <tr>\n",
              "      <th>0</th>\n",
              "      <td>2</td>\n",
              "      <td>1</td>\n",
              "      <td>-73.985611</td>\n",
              "      <td>40.735943</td>\n",
              "      <td>-73.980331</td>\n",
              "      <td>40.760468</td>\n",
              "      <td>N</td>\n",
              "      <td>1040</td>\n",
              "      <td>2016</td>\n",
              "      <td>6</td>\n",
              "      <td>8</td>\n",
              "      <td>7</td>\n",
              "      <td>36</td>\n",
              "      <td>19</td>\n",
              "    </tr>\n",
              "    <tr>\n",
              "      <th>1</th>\n",
              "      <td>2</td>\n",
              "      <td>1</td>\n",
              "      <td>-73.978394</td>\n",
              "      <td>40.764351</td>\n",
              "      <td>-73.991623</td>\n",
              "      <td>40.749859</td>\n",
              "      <td>N</td>\n",
              "      <td>827</td>\n",
              "      <td>2016</td>\n",
              "      <td>4</td>\n",
              "      <td>3</td>\n",
              "      <td>12</td>\n",
              "      <td>58</td>\n",
              "      <td>11</td>\n",
              "    </tr>\n",
              "    <tr>\n",
              "      <th>2</th>\n",
              "      <td>2</td>\n",
              "      <td>5</td>\n",
              "      <td>-73.989059</td>\n",
              "      <td>40.744389</td>\n",
              "      <td>-73.973381</td>\n",
              "      <td>40.748692</td>\n",
              "      <td>N</td>\n",
              "      <td>614</td>\n",
              "      <td>2016</td>\n",
              "      <td>6</td>\n",
              "      <td>5</td>\n",
              "      <td>2</td>\n",
              "      <td>49</td>\n",
              "      <td>13</td>\n",
              "    </tr>\n",
              "    <tr>\n",
              "      <th>3</th>\n",
              "      <td>2</td>\n",
              "      <td>2</td>\n",
              "      <td>-73.990326</td>\n",
              "      <td>40.731136</td>\n",
              "      <td>-73.991264</td>\n",
              "      <td>40.748917</td>\n",
              "      <td>N</td>\n",
              "      <td>867</td>\n",
              "      <td>2016</td>\n",
              "      <td>5</td>\n",
              "      <td>5</td>\n",
              "      <td>17</td>\n",
              "      <td>18</td>\n",
              "      <td>27</td>\n",
              "    </tr>\n",
              "    <tr>\n",
              "      <th>4</th>\n",
              "      <td>1</td>\n",
              "      <td>4</td>\n",
              "      <td>-73.789497</td>\n",
              "      <td>40.646675</td>\n",
              "      <td>-73.987137</td>\n",
              "      <td>40.759232</td>\n",
              "      <td>N</td>\n",
              "      <td>4967</td>\n",
              "      <td>2016</td>\n",
              "      <td>5</td>\n",
              "      <td>12</td>\n",
              "      <td>17</td>\n",
              "      <td>43</td>\n",
              "      <td>38</td>\n",
              "    </tr>\n",
              "  </tbody>\n",
              "</table>\n",
              "</div>"
            ],
            "text/plain": [
              "   vendor_id  passenger_count  ...  pickup_datetime_minute  pickup_datetime_second\n",
              "0          2                1  ...                      36                      19\n",
              "1          2                1  ...                      58                      11\n",
              "2          2                5  ...                      49                      13\n",
              "3          2                2  ...                      18                      27\n",
              "4          1                4  ...                      43                      38\n",
              "\n",
              "[5 rows x 14 columns]"
            ]
          },
          "metadata": {
            "tags": []
          },
          "execution_count": 30
        }
      ]
    },
    {
      "cell_type": "code",
      "metadata": {
        "id": "QFgetZCpw3Ub",
        "colab": {
          "base_uri": "https://localhost:8080/",
          "height": 222
        },
        "outputId": "22817de4-0516-4cac-daac-610a06316b1e"
      },
      "source": [
        "# Call datetime_transformer on df_test\n",
        "# See the implementation in pmlm_utilities.ipynb\n",
        "df_test = datetime_transformer(df_test, datetime_vars)\n",
        "\n",
        "# Print the first 5 rows of df_test\n",
        "df_test.head()"
      ],
      "execution_count": 31,
      "outputs": [
        {
          "output_type": "execute_result",
          "data": {
            "text/html": [
              "<div>\n",
              "<style scoped>\n",
              "    .dataframe tbody tr th:only-of-type {\n",
              "        vertical-align: middle;\n",
              "    }\n",
              "\n",
              "    .dataframe tbody tr th {\n",
              "        vertical-align: top;\n",
              "    }\n",
              "\n",
              "    .dataframe thead th {\n",
              "        text-align: right;\n",
              "    }\n",
              "</style>\n",
              "<table border=\"1\" class=\"dataframe\">\n",
              "  <thead>\n",
              "    <tr style=\"text-align: right;\">\n",
              "      <th></th>\n",
              "      <th>vendor_id</th>\n",
              "      <th>passenger_count</th>\n",
              "      <th>pickup_longitude</th>\n",
              "      <th>pickup_latitude</th>\n",
              "      <th>dropoff_longitude</th>\n",
              "      <th>dropoff_latitude</th>\n",
              "      <th>store_and_fwd_flag</th>\n",
              "      <th>pickup_datetime_year</th>\n",
              "      <th>pickup_datetime_month</th>\n",
              "      <th>pickup_datetime_day</th>\n",
              "      <th>pickup_datetime_hour</th>\n",
              "      <th>pickup_datetime_minute</th>\n",
              "      <th>pickup_datetime_second</th>\n",
              "    </tr>\n",
              "  </thead>\n",
              "  <tbody>\n",
              "    <tr>\n",
              "      <th>0</th>\n",
              "      <td>1</td>\n",
              "      <td>1</td>\n",
              "      <td>-73.988129</td>\n",
              "      <td>40.732029</td>\n",
              "      <td>-73.990173</td>\n",
              "      <td>40.756680</td>\n",
              "      <td>N</td>\n",
              "      <td>2016</td>\n",
              "      <td>6</td>\n",
              "      <td>30</td>\n",
              "      <td>23</td>\n",
              "      <td>59</td>\n",
              "      <td>58</td>\n",
              "    </tr>\n",
              "    <tr>\n",
              "      <th>1</th>\n",
              "      <td>1</td>\n",
              "      <td>1</td>\n",
              "      <td>-73.964203</td>\n",
              "      <td>40.679993</td>\n",
              "      <td>-73.959808</td>\n",
              "      <td>40.655403</td>\n",
              "      <td>N</td>\n",
              "      <td>2016</td>\n",
              "      <td>6</td>\n",
              "      <td>30</td>\n",
              "      <td>23</td>\n",
              "      <td>59</td>\n",
              "      <td>53</td>\n",
              "    </tr>\n",
              "    <tr>\n",
              "      <th>2</th>\n",
              "      <td>1</td>\n",
              "      <td>1</td>\n",
              "      <td>-73.997437</td>\n",
              "      <td>40.737583</td>\n",
              "      <td>-73.986160</td>\n",
              "      <td>40.729523</td>\n",
              "      <td>N</td>\n",
              "      <td>2016</td>\n",
              "      <td>6</td>\n",
              "      <td>30</td>\n",
              "      <td>23</td>\n",
              "      <td>59</td>\n",
              "      <td>47</td>\n",
              "    </tr>\n",
              "    <tr>\n",
              "      <th>3</th>\n",
              "      <td>2</td>\n",
              "      <td>1</td>\n",
              "      <td>-73.956070</td>\n",
              "      <td>40.771900</td>\n",
              "      <td>-73.986427</td>\n",
              "      <td>40.730469</td>\n",
              "      <td>N</td>\n",
              "      <td>2016</td>\n",
              "      <td>6</td>\n",
              "      <td>30</td>\n",
              "      <td>23</td>\n",
              "      <td>59</td>\n",
              "      <td>41</td>\n",
              "    </tr>\n",
              "    <tr>\n",
              "      <th>4</th>\n",
              "      <td>1</td>\n",
              "      <td>1</td>\n",
              "      <td>-73.970215</td>\n",
              "      <td>40.761475</td>\n",
              "      <td>-73.961510</td>\n",
              "      <td>40.755890</td>\n",
              "      <td>N</td>\n",
              "      <td>2016</td>\n",
              "      <td>6</td>\n",
              "      <td>30</td>\n",
              "      <td>23</td>\n",
              "      <td>59</td>\n",
              "      <td>33</td>\n",
              "    </tr>\n",
              "  </tbody>\n",
              "</table>\n",
              "</div>"
            ],
            "text/plain": [
              "   vendor_id  passenger_count  ...  pickup_datetime_minute  pickup_datetime_second\n",
              "0          1                1  ...                      59                      58\n",
              "1          1                1  ...                      59                      53\n",
              "2          1                1  ...                      59                      47\n",
              "3          2                1  ...                      59                      41\n",
              "4          1                1  ...                      59                      33\n",
              "\n",
              "[5 rows x 13 columns]"
            ]
          },
          "metadata": {
            "tags": []
          },
          "execution_count": 31
        }
      ]
    },
    {
      "cell_type": "markdown",
      "metadata": {
        "id": "P8V9WVkuxRt_"
      },
      "source": [
        "### **Handling missing data**"
      ]
    },
    {
      "cell_type": "code",
      "metadata": {
        "id": "Qqpw6Lcfxr5s"
      },
      "source": [
        "# Combine df_train, df_val and df_test\n",
        "df = pd.concat([df_train, df_val, df_test], sort=False)"
      ],
      "execution_count": 32,
      "outputs": []
    },
    {
      "cell_type": "code",
      "metadata": {
        "id": "4-baWZGixylo",
        "colab": {
          "base_uri": "https://localhost:8080/",
          "height": 80
        },
        "outputId": "230d3177-1008-42da-d2fd-469f7bdc7205"
      },
      "source": [
        "# Call nan_checker on df\n",
        "# See the implementation in pmlm_utilities.ipynb\n",
        "df_nan = nan_checker(df)\n",
        "\n",
        "# Print df_nan\n",
        "df_nan"
      ],
      "execution_count": 33,
      "outputs": [
        {
          "output_type": "execute_result",
          "data": {
            "text/html": [
              "<div>\n",
              "<style scoped>\n",
              "    .dataframe tbody tr th:only-of-type {\n",
              "        vertical-align: middle;\n",
              "    }\n",
              "\n",
              "    .dataframe tbody tr th {\n",
              "        vertical-align: top;\n",
              "    }\n",
              "\n",
              "    .dataframe thead th {\n",
              "        text-align: right;\n",
              "    }\n",
              "</style>\n",
              "<table border=\"1\" class=\"dataframe\">\n",
              "  <thead>\n",
              "    <tr style=\"text-align: right;\">\n",
              "      <th></th>\n",
              "      <th>var</th>\n",
              "      <th>proportion</th>\n",
              "      <th>dtype</th>\n",
              "    </tr>\n",
              "  </thead>\n",
              "  <tbody>\n",
              "    <tr>\n",
              "      <th>0</th>\n",
              "      <td>trip_duration</td>\n",
              "      <td>0.3</td>\n",
              "      <td>float64</td>\n",
              "    </tr>\n",
              "  </tbody>\n",
              "</table>\n",
              "</div>"
            ],
            "text/plain": [
              "             var  proportion    dtype\n",
              "0  trip_duration         0.3  float64"
            ]
          },
          "metadata": {
            "tags": []
          },
          "execution_count": 33
        }
      ]
    },
    {
      "cell_type": "code",
      "metadata": {
        "id": "4M_HfdExx82z",
        "colab": {
          "base_uri": "https://localhost:8080/",
          "height": 80
        },
        "outputId": "558baca5-5d9d-4443-e36b-63d2f01ad1a5"
      },
      "source": [
        "# Print the unique data type of variables with NaN\n",
        "pd.DataFrame(df_nan['dtype'].unique(), columns=['dtype'])"
      ],
      "execution_count": 34,
      "outputs": [
        {
          "output_type": "execute_result",
          "data": {
            "text/html": [
              "<div>\n",
              "<style scoped>\n",
              "    .dataframe tbody tr th:only-of-type {\n",
              "        vertical-align: middle;\n",
              "    }\n",
              "\n",
              "    .dataframe tbody tr th {\n",
              "        vertical-align: top;\n",
              "    }\n",
              "\n",
              "    .dataframe thead th {\n",
              "        text-align: right;\n",
              "    }\n",
              "</style>\n",
              "<table border=\"1\" class=\"dataframe\">\n",
              "  <thead>\n",
              "    <tr style=\"text-align: right;\">\n",
              "      <th></th>\n",
              "      <th>dtype</th>\n",
              "    </tr>\n",
              "  </thead>\n",
              "  <tbody>\n",
              "    <tr>\n",
              "      <th>0</th>\n",
              "      <td>float64</td>\n",
              "    </tr>\n",
              "  </tbody>\n",
              "</table>\n",
              "</div>"
            ],
            "text/plain": [
              "     dtype\n",
              "0  float64"
            ]
          },
          "metadata": {
            "tags": []
          },
          "execution_count": 34
        }
      ]
    },
    {
      "cell_type": "code",
      "metadata": {
        "id": "F3DV7jt8xdD4",
        "colab": {
          "base_uri": "https://localhost:8080/",
          "height": 80
        },
        "outputId": "b2f2d598-9dab-4023-aace-bffe7b62797b"
      },
      "source": [
        "# Get the variables with missing values, their proportion of missing values and data type\n",
        "df_miss = df_nan[df_nan['dtype'] == 'float64'].reset_index(drop=True)\n",
        "\n",
        "# Print df_miss\n",
        "df_miss"
      ],
      "execution_count": 35,
      "outputs": [
        {
          "output_type": "execute_result",
          "data": {
            "text/html": [
              "<div>\n",
              "<style scoped>\n",
              "    .dataframe tbody tr th:only-of-type {\n",
              "        vertical-align: middle;\n",
              "    }\n",
              "\n",
              "    .dataframe tbody tr th {\n",
              "        vertical-align: top;\n",
              "    }\n",
              "\n",
              "    .dataframe thead th {\n",
              "        text-align: right;\n",
              "    }\n",
              "</style>\n",
              "<table border=\"1\" class=\"dataframe\">\n",
              "  <thead>\n",
              "    <tr style=\"text-align: right;\">\n",
              "      <th></th>\n",
              "      <th>var</th>\n",
              "      <th>proportion</th>\n",
              "      <th>dtype</th>\n",
              "    </tr>\n",
              "  </thead>\n",
              "  <tbody>\n",
              "    <tr>\n",
              "      <th>0</th>\n",
              "      <td>trip_duration</td>\n",
              "      <td>0.3</td>\n",
              "      <td>float64</td>\n",
              "    </tr>\n",
              "  </tbody>\n",
              "</table>\n",
              "</div>"
            ],
            "text/plain": [
              "             var  proportion    dtype\n",
              "0  trip_duration         0.3  float64"
            ]
          },
          "metadata": {
            "tags": []
          },
          "execution_count": 35
        }
      ]
    },
    {
      "cell_type": "code",
      "metadata": {
        "id": "UWG5jh3-yHVd"
      },
      "source": [
        "# Separating the training data\n",
        "df_train = df.iloc[:df_train.shape[0], :]\n",
        "\n",
        "# Separating the validation data\n",
        "df_val = df.iloc[df_train.shape[0]:df_train.shape[0] + df_val.shape[0], :]\n",
        "\n",
        "# Separating the test data\n",
        "df_test = df.iloc[df_train.shape[0] + df_val.shape[0]:, :]"
      ],
      "execution_count": 36,
      "outputs": []
    },
    {
      "cell_type": "code",
      "metadata": {
        "id": "AWNuoRRsyM2P",
        "colab": {
          "base_uri": "https://localhost:8080/",
          "height": 80
        },
        "outputId": "23e0f4ed-1c78-4a8f-8310-dac6e706ca22"
      },
      "source": [
        "# Print the dimension of df_train\n",
        "pd.DataFrame([[df_train.shape[0], df_train.shape[1]]], columns=['# rows', '# columns'])"
      ],
      "execution_count": 37,
      "outputs": [
        {
          "output_type": "execute_result",
          "data": {
            "text/html": [
              "<div>\n",
              "<style scoped>\n",
              "    .dataframe tbody tr th:only-of-type {\n",
              "        vertical-align: middle;\n",
              "    }\n",
              "\n",
              "    .dataframe tbody tr th {\n",
              "        vertical-align: top;\n",
              "    }\n",
              "\n",
              "    .dataframe thead th {\n",
              "        text-align: right;\n",
              "    }\n",
              "</style>\n",
              "<table border=\"1\" class=\"dataframe\">\n",
              "  <thead>\n",
              "    <tr style=\"text-align: right;\">\n",
              "      <th></th>\n",
              "      <th># rows</th>\n",
              "      <th># columns</th>\n",
              "    </tr>\n",
              "  </thead>\n",
              "  <tbody>\n",
              "    <tr>\n",
              "      <th>0</th>\n",
              "      <td>1166915</td>\n",
              "      <td>14</td>\n",
              "    </tr>\n",
              "  </tbody>\n",
              "</table>\n",
              "</div>"
            ],
            "text/plain": [
              "    # rows  # columns\n",
              "0  1166915         14"
            ]
          },
          "metadata": {
            "tags": []
          },
          "execution_count": 37
        }
      ]
    },
    {
      "cell_type": "code",
      "metadata": {
        "id": "sE34BZbGyOaH",
        "colab": {
          "base_uri": "https://localhost:8080/",
          "height": 80
        },
        "outputId": "9908109e-f54f-4bf5-e4dc-66c76893e54f"
      },
      "source": [
        "# Print the dimension of df_val\n",
        "pd.DataFrame([[df_val.shape[0], df_val.shape[1]]], columns=['# rows', '# columns'])"
      ],
      "execution_count": 38,
      "outputs": [
        {
          "output_type": "execute_result",
          "data": {
            "text/html": [
              "<div>\n",
              "<style scoped>\n",
              "    .dataframe tbody tr th:only-of-type {\n",
              "        vertical-align: middle;\n",
              "    }\n",
              "\n",
              "    .dataframe tbody tr th {\n",
              "        vertical-align: top;\n",
              "    }\n",
              "\n",
              "    .dataframe thead th {\n",
              "        text-align: right;\n",
              "    }\n",
              "</style>\n",
              "<table border=\"1\" class=\"dataframe\">\n",
              "  <thead>\n",
              "    <tr style=\"text-align: right;\">\n",
              "      <th></th>\n",
              "      <th># rows</th>\n",
              "      <th># columns</th>\n",
              "    </tr>\n",
              "  </thead>\n",
              "  <tbody>\n",
              "    <tr>\n",
              "      <th>0</th>\n",
              "      <td>291729</td>\n",
              "      <td>14</td>\n",
              "    </tr>\n",
              "  </tbody>\n",
              "</table>\n",
              "</div>"
            ],
            "text/plain": [
              "   # rows  # columns\n",
              "0  291729         14"
            ]
          },
          "metadata": {
            "tags": []
          },
          "execution_count": 38
        }
      ]
    },
    {
      "cell_type": "code",
      "metadata": {
        "id": "A0aUvkPTyR97",
        "colab": {
          "base_uri": "https://localhost:8080/",
          "height": 80
        },
        "outputId": "a5fbba15-5b5d-48b7-aa09-d5f452a8ea90"
      },
      "source": [
        "# Print the dimension of df_test\n",
        "pd.DataFrame([[df_test.shape[0], df_test.shape[1]]], columns=['# rows', '# columns'])"
      ],
      "execution_count": 39,
      "outputs": [
        {
          "output_type": "execute_result",
          "data": {
            "text/html": [
              "<div>\n",
              "<style scoped>\n",
              "    .dataframe tbody tr th:only-of-type {\n",
              "        vertical-align: middle;\n",
              "    }\n",
              "\n",
              "    .dataframe tbody tr th {\n",
              "        vertical-align: top;\n",
              "    }\n",
              "\n",
              "    .dataframe thead th {\n",
              "        text-align: right;\n",
              "    }\n",
              "</style>\n",
              "<table border=\"1\" class=\"dataframe\">\n",
              "  <thead>\n",
              "    <tr style=\"text-align: right;\">\n",
              "      <th></th>\n",
              "      <th># rows</th>\n",
              "      <th># columns</th>\n",
              "    </tr>\n",
              "  </thead>\n",
              "  <tbody>\n",
              "    <tr>\n",
              "      <th>0</th>\n",
              "      <td>625134</td>\n",
              "      <td>14</td>\n",
              "    </tr>\n",
              "  </tbody>\n",
              "</table>\n",
              "</div>"
            ],
            "text/plain": [
              "   # rows  # columns\n",
              "0  625134         14"
            ]
          },
          "metadata": {
            "tags": []
          },
          "execution_count": 39
        }
      ]
    },
    {
      "cell_type": "code",
      "metadata": {
        "id": "FSdPW0UyyYvS"
      },
      "source": [
        "from sklearn.impute import SimpleImputer\n",
        "\n",
        "# If there are missing values\n",
        "if len(df_miss['var']) > 0:\n",
        "    # The SimpleImputer\n",
        "    si = SimpleImputer(missing_values=np.nan, strategy='mean')\n",
        "\n",
        "    # Impute the variables with missing values in df_train, df_val and df_test \n",
        "    df_train[df_miss['var']] = si.fit_transform(df_train[df_miss['var']])\n",
        "    df_val[df_miss['var']] = si.transform(df_val[df_miss['var']])\n",
        "    df_test[df_miss['var']] = si.transform(df_test[df_miss['var']])"
      ],
      "execution_count": 40,
      "outputs": []
    },
    {
      "cell_type": "markdown",
      "metadata": {
        "id": "VjJCx-Eaycv8"
      },
      "source": [
        "### **Encoding the data**"
      ]
    },
    {
      "cell_type": "code",
      "metadata": {
        "id": "jU0qdfcby9n2",
        "colab": {
          "base_uri": "https://localhost:8080/",
          "height": 141
        },
        "outputId": "15eb547c-0f50-4fad-a90e-510e62f6cc47"
      },
      "source": [
        "# Combine df_train, df_val and df_test\n",
        "df = pd.concat([df_train, df_val, df_test], sort=False)\n",
        "\n",
        "# Print the unique data type of variables in df\n",
        "pd.DataFrame(df.dtypes.unique(), columns=['dtype'])"
      ],
      "execution_count": 41,
      "outputs": [
        {
          "output_type": "execute_result",
          "data": {
            "text/html": [
              "<div>\n",
              "<style scoped>\n",
              "    .dataframe tbody tr th:only-of-type {\n",
              "        vertical-align: middle;\n",
              "    }\n",
              "\n",
              "    .dataframe tbody tr th {\n",
              "        vertical-align: top;\n",
              "    }\n",
              "\n",
              "    .dataframe thead th {\n",
              "        text-align: right;\n",
              "    }\n",
              "</style>\n",
              "<table border=\"1\" class=\"dataframe\">\n",
              "  <thead>\n",
              "    <tr style=\"text-align: right;\">\n",
              "      <th></th>\n",
              "      <th>dtype</th>\n",
              "    </tr>\n",
              "  </thead>\n",
              "  <tbody>\n",
              "    <tr>\n",
              "      <th>0</th>\n",
              "      <td>int64</td>\n",
              "    </tr>\n",
              "    <tr>\n",
              "      <th>1</th>\n",
              "      <td>float64</td>\n",
              "    </tr>\n",
              "    <tr>\n",
              "      <th>2</th>\n",
              "      <td>object</td>\n",
              "    </tr>\n",
              "  </tbody>\n",
              "</table>\n",
              "</div>"
            ],
            "text/plain": [
              "     dtype\n",
              "0    int64\n",
              "1  float64\n",
              "2   object"
            ]
          },
          "metadata": {
            "tags": []
          },
          "execution_count": 41
        }
      ]
    },
    {
      "cell_type": "code",
      "metadata": {
        "id": "v32wdBPqyfSz",
        "colab": {
          "base_uri": "https://localhost:8080/",
          "height": 80
        },
        "outputId": "3d743bf4-0216-4091-dc56-2a1bceaafd2b"
      },
      "source": [
        "# Call cat_var_checker on df\n",
        "# See the implementation in pmlm_utilities.ipynb\n",
        "df_cat = cat_var_checker(df)\n",
        "\n",
        "# Print the dataframe\n",
        "df_cat"
      ],
      "execution_count": 42,
      "outputs": [
        {
          "output_type": "execute_result",
          "data": {
            "text/html": [
              "<div>\n",
              "<style scoped>\n",
              "    .dataframe tbody tr th:only-of-type {\n",
              "        vertical-align: middle;\n",
              "    }\n",
              "\n",
              "    .dataframe tbody tr th {\n",
              "        vertical-align: top;\n",
              "    }\n",
              "\n",
              "    .dataframe thead th {\n",
              "        text-align: right;\n",
              "    }\n",
              "</style>\n",
              "<table border=\"1\" class=\"dataframe\">\n",
              "  <thead>\n",
              "    <tr style=\"text-align: right;\">\n",
              "      <th></th>\n",
              "      <th>var</th>\n",
              "      <th>nunique</th>\n",
              "    </tr>\n",
              "  </thead>\n",
              "  <tbody>\n",
              "    <tr>\n",
              "      <th>0</th>\n",
              "      <td>store_and_fwd_flag</td>\n",
              "      <td>2</td>\n",
              "    </tr>\n",
              "  </tbody>\n",
              "</table>\n",
              "</div>"
            ],
            "text/plain": [
              "                  var  nunique\n",
              "0  store_and_fwd_flag        2"
            ]
          },
          "metadata": {
            "tags": []
          },
          "execution_count": 42
        }
      ]
    },
    {
      "cell_type": "code",
      "metadata": {
        "id": "ndd8Ee2kzc1q",
        "colab": {
          "base_uri": "https://localhost:8080/",
          "height": 222
        },
        "outputId": "64a3e216-b405-4d41-9cee-59f7698e5698"
      },
      "source": [
        "## One-hot-encode the categorical features in the combined data\n",
        "df = pd.get_dummies(df, columns=np.setdiff1d(df_cat['var'], [target]))\n",
        "\n",
        "# Print the first 5 rows of df\n",
        "df.head()"
      ],
      "execution_count": 43,
      "outputs": [
        {
          "output_type": "execute_result",
          "data": {
            "text/html": [
              "<div>\n",
              "<style scoped>\n",
              "    .dataframe tbody tr th:only-of-type {\n",
              "        vertical-align: middle;\n",
              "    }\n",
              "\n",
              "    .dataframe tbody tr th {\n",
              "        vertical-align: top;\n",
              "    }\n",
              "\n",
              "    .dataframe thead th {\n",
              "        text-align: right;\n",
              "    }\n",
              "</style>\n",
              "<table border=\"1\" class=\"dataframe\">\n",
              "  <thead>\n",
              "    <tr style=\"text-align: right;\">\n",
              "      <th></th>\n",
              "      <th>vendor_id</th>\n",
              "      <th>passenger_count</th>\n",
              "      <th>pickup_longitude</th>\n",
              "      <th>pickup_latitude</th>\n",
              "      <th>dropoff_longitude</th>\n",
              "      <th>dropoff_latitude</th>\n",
              "      <th>trip_duration</th>\n",
              "      <th>pickup_datetime_year</th>\n",
              "      <th>pickup_datetime_month</th>\n",
              "      <th>pickup_datetime_day</th>\n",
              "      <th>pickup_datetime_hour</th>\n",
              "      <th>pickup_datetime_minute</th>\n",
              "      <th>pickup_datetime_second</th>\n",
              "      <th>store_and_fwd_flag_N</th>\n",
              "      <th>store_and_fwd_flag_Y</th>\n",
              "    </tr>\n",
              "  </thead>\n",
              "  <tbody>\n",
              "    <tr>\n",
              "      <th>0</th>\n",
              "      <td>2</td>\n",
              "      <td>1</td>\n",
              "      <td>-73.862762</td>\n",
              "      <td>40.768822</td>\n",
              "      <td>-73.891701</td>\n",
              "      <td>40.746689</td>\n",
              "      <td>1133.0</td>\n",
              "      <td>2016</td>\n",
              "      <td>6</td>\n",
              "      <td>29</td>\n",
              "      <td>18</td>\n",
              "      <td>21</td>\n",
              "      <td>2</td>\n",
              "      <td>1</td>\n",
              "      <td>0</td>\n",
              "    </tr>\n",
              "    <tr>\n",
              "      <th>1</th>\n",
              "      <td>2</td>\n",
              "      <td>1</td>\n",
              "      <td>-73.958038</td>\n",
              "      <td>40.783237</td>\n",
              "      <td>-73.975510</td>\n",
              "      <td>40.760853</td>\n",
              "      <td>887.0</td>\n",
              "      <td>2016</td>\n",
              "      <td>4</td>\n",
              "      <td>25</td>\n",
              "      <td>13</td>\n",
              "      <td>3</td>\n",
              "      <td>26</td>\n",
              "      <td>1</td>\n",
              "      <td>0</td>\n",
              "    </tr>\n",
              "    <tr>\n",
              "      <th>2</th>\n",
              "      <td>2</td>\n",
              "      <td>1</td>\n",
              "      <td>-73.969460</td>\n",
              "      <td>40.785519</td>\n",
              "      <td>-73.989243</td>\n",
              "      <td>40.771748</td>\n",
              "      <td>686.0</td>\n",
              "      <td>2016</td>\n",
              "      <td>5</td>\n",
              "      <td>7</td>\n",
              "      <td>12</td>\n",
              "      <td>36</td>\n",
              "      <td>9</td>\n",
              "      <td>1</td>\n",
              "      <td>0</td>\n",
              "    </tr>\n",
              "    <tr>\n",
              "      <th>3</th>\n",
              "      <td>1</td>\n",
              "      <td>1</td>\n",
              "      <td>-73.981743</td>\n",
              "      <td>40.736549</td>\n",
              "      <td>-73.998352</td>\n",
              "      <td>40.726440</td>\n",
              "      <td>818.0</td>\n",
              "      <td>2016</td>\n",
              "      <td>5</td>\n",
              "      <td>14</td>\n",
              "      <td>18</td>\n",
              "      <td>44</td>\n",
              "      <td>17</td>\n",
              "      <td>1</td>\n",
              "      <td>0</td>\n",
              "    </tr>\n",
              "    <tr>\n",
              "      <th>4</th>\n",
              "      <td>2</td>\n",
              "      <td>1</td>\n",
              "      <td>-73.977913</td>\n",
              "      <td>40.752609</td>\n",
              "      <td>-73.975647</td>\n",
              "      <td>40.733139</td>\n",
              "      <td>951.0</td>\n",
              "      <td>2016</td>\n",
              "      <td>4</td>\n",
              "      <td>10</td>\n",
              "      <td>22</td>\n",
              "      <td>51</td>\n",
              "      <td>25</td>\n",
              "      <td>1</td>\n",
              "      <td>0</td>\n",
              "    </tr>\n",
              "  </tbody>\n",
              "</table>\n",
              "</div>"
            ],
            "text/plain": [
              "   vendor_id  passenger_count  ...  store_and_fwd_flag_N  store_and_fwd_flag_Y\n",
              "0          2                1  ...                     1                     0\n",
              "1          2                1  ...                     1                     0\n",
              "2          2                1  ...                     1                     0\n",
              "3          1                1  ...                     1                     0\n",
              "4          2                1  ...                     1                     0\n",
              "\n",
              "[5 rows x 15 columns]"
            ]
          },
          "metadata": {
            "tags": []
          },
          "execution_count": 43
        }
      ]
    },
    {
      "cell_type": "code",
      "metadata": {
        "id": "l7O0zypQzuUW"
      },
      "source": [
        "# Separating the training data\n",
        "df_train = df.iloc[:df_train.shape[0], :]\n",
        "\n",
        "# Separating the validation data\n",
        "df_val = df.iloc[df_train.shape[0]:df_train.shape[0] + df_val.shape[0], :]\n",
        "\n",
        "# Separating the test data\n",
        "df_test = df.iloc[df_train.shape[0] + df_val.shape[0]:, :]"
      ],
      "execution_count": 44,
      "outputs": []
    },
    {
      "cell_type": "code",
      "metadata": {
        "id": "JFCmCXgAzxd_",
        "colab": {
          "base_uri": "https://localhost:8080/",
          "height": 80
        },
        "outputId": "f91746da-6167-40f0-fcb6-83005627bd3b"
      },
      "source": [
        "# Print the dimension of df_train\n",
        "pd.DataFrame([[df_train.shape[0], df_train.shape[1]]], columns=['# rows', '# columns'])"
      ],
      "execution_count": 45,
      "outputs": [
        {
          "output_type": "execute_result",
          "data": {
            "text/html": [
              "<div>\n",
              "<style scoped>\n",
              "    .dataframe tbody tr th:only-of-type {\n",
              "        vertical-align: middle;\n",
              "    }\n",
              "\n",
              "    .dataframe tbody tr th {\n",
              "        vertical-align: top;\n",
              "    }\n",
              "\n",
              "    .dataframe thead th {\n",
              "        text-align: right;\n",
              "    }\n",
              "</style>\n",
              "<table border=\"1\" class=\"dataframe\">\n",
              "  <thead>\n",
              "    <tr style=\"text-align: right;\">\n",
              "      <th></th>\n",
              "      <th># rows</th>\n",
              "      <th># columns</th>\n",
              "    </tr>\n",
              "  </thead>\n",
              "  <tbody>\n",
              "    <tr>\n",
              "      <th>0</th>\n",
              "      <td>1166915</td>\n",
              "      <td>15</td>\n",
              "    </tr>\n",
              "  </tbody>\n",
              "</table>\n",
              "</div>"
            ],
            "text/plain": [
              "    # rows  # columns\n",
              "0  1166915         15"
            ]
          },
          "metadata": {
            "tags": []
          },
          "execution_count": 45
        }
      ]
    },
    {
      "cell_type": "code",
      "metadata": {
        "id": "2rNCFLdCz1MF",
        "colab": {
          "base_uri": "https://localhost:8080/",
          "height": 80
        },
        "outputId": "234d9a21-937d-4a78-cab9-cafed24fcf98"
      },
      "source": [
        "# Print the dimension of df_val\n",
        "pd.DataFrame([[df_val.shape[0], df_val.shape[1]]], columns=['# rows', '# columns'])"
      ],
      "execution_count": 46,
      "outputs": [
        {
          "output_type": "execute_result",
          "data": {
            "text/html": [
              "<div>\n",
              "<style scoped>\n",
              "    .dataframe tbody tr th:only-of-type {\n",
              "        vertical-align: middle;\n",
              "    }\n",
              "\n",
              "    .dataframe tbody tr th {\n",
              "        vertical-align: top;\n",
              "    }\n",
              "\n",
              "    .dataframe thead th {\n",
              "        text-align: right;\n",
              "    }\n",
              "</style>\n",
              "<table border=\"1\" class=\"dataframe\">\n",
              "  <thead>\n",
              "    <tr style=\"text-align: right;\">\n",
              "      <th></th>\n",
              "      <th># rows</th>\n",
              "      <th># columns</th>\n",
              "    </tr>\n",
              "  </thead>\n",
              "  <tbody>\n",
              "    <tr>\n",
              "      <th>0</th>\n",
              "      <td>291729</td>\n",
              "      <td>15</td>\n",
              "    </tr>\n",
              "  </tbody>\n",
              "</table>\n",
              "</div>"
            ],
            "text/plain": [
              "   # rows  # columns\n",
              "0  291729         15"
            ]
          },
          "metadata": {
            "tags": []
          },
          "execution_count": 46
        }
      ]
    },
    {
      "cell_type": "code",
      "metadata": {
        "id": "eTaWxgxGz5G3",
        "colab": {
          "base_uri": "https://localhost:8080/",
          "height": 80
        },
        "outputId": "4e9f468a-ae4c-4137-b936-6bf3c9fb6268"
      },
      "source": [
        "# Print the dimension of df_test\n",
        "pd.DataFrame([[df_test.shape[0], df_test.shape[1]]], columns=['# rows', '# columns'])"
      ],
      "execution_count": 47,
      "outputs": [
        {
          "output_type": "execute_result",
          "data": {
            "text/html": [
              "<div>\n",
              "<style scoped>\n",
              "    .dataframe tbody tr th:only-of-type {\n",
              "        vertical-align: middle;\n",
              "    }\n",
              "\n",
              "    .dataframe tbody tr th {\n",
              "        vertical-align: top;\n",
              "    }\n",
              "\n",
              "    .dataframe thead th {\n",
              "        text-align: right;\n",
              "    }\n",
              "</style>\n",
              "<table border=\"1\" class=\"dataframe\">\n",
              "  <thead>\n",
              "    <tr style=\"text-align: right;\">\n",
              "      <th></th>\n",
              "      <th># rows</th>\n",
              "      <th># columns</th>\n",
              "    </tr>\n",
              "  </thead>\n",
              "  <tbody>\n",
              "    <tr>\n",
              "      <th>0</th>\n",
              "      <td>625134</td>\n",
              "      <td>15</td>\n",
              "    </tr>\n",
              "  </tbody>\n",
              "</table>\n",
              "</div>"
            ],
            "text/plain": [
              "   # rows  # columns\n",
              "0  625134         15"
            ]
          },
          "metadata": {
            "tags": []
          },
          "execution_count": 47
        }
      ]
    },
    {
      "cell_type": "markdown",
      "metadata": {
        "id": "XwIEffuQz64G"
      },
      "source": [
        "### **Splitting the feature and the target**"
      ]
    },
    {
      "cell_type": "code",
      "metadata": {
        "id": "CXhqDsc90E_M"
      },
      "source": [
        "# Get the feature matrix\n",
        "X_train = df_train[np.setdiff1d(df_train.columns, [target])].values\n",
        "X_val = df_val[np.setdiff1d(df_val.columns, [target])].values\n",
        "X_test = df_test[np.setdiff1d(df_test.columns, [target])].values\n",
        "\n",
        "# Get the target vector\n",
        "y_train = df_train[target].values\n",
        "y_val = df_val[target].values\n",
        "y_test = df_test[target].values"
      ],
      "execution_count": 48,
      "outputs": []
    },
    {
      "cell_type": "markdown",
      "metadata": {
        "id": "IfyrfdOH0Qaq"
      },
      "source": [
        "### **Scaling the data**"
      ]
    },
    {
      "cell_type": "code",
      "metadata": {
        "id": "4v0HeCmA0fDj"
      },
      "source": [
        "from sklearn.preprocessing import StandardScaler\n",
        "\n",
        "# The StandardScaler\n",
        "ss = StandardScaler()\n"
      ],
      "execution_count": 49,
      "outputs": []
    },
    {
      "cell_type": "code",
      "metadata": {
        "id": "0ji2ZHAf0bZ0"
      },
      "source": [
        "# Standardize the training data\n",
        "X_train = ss.fit_transform(X_train)\n",
        "\n",
        "# Standardize the validation data\n",
        "X_val = ss.transform(X_val)\n",
        "\n",
        "# Standardize the test data\n",
        "X_test = ss.transform(X_test)"
      ],
      "execution_count": 50,
      "outputs": []
    },
    {
      "cell_type": "code",
      "metadata": {
        "id": "1mbHVv5h0kha"
      },
      "source": [
        "# Standardize the training data\n",
        "y_train = ss.fit_transform(y_train.reshape(-1, 1)).reshape(-1)\n",
        "\n",
        "# Standardize the validation data\n",
        "y_val = ss.transform(y_val.reshape(-1, 1)).reshape(-1)\n",
        "\n",
        "# Standardize the test data\n",
        "y_test = ss.transform(y_test.reshape(-1, 1)).reshape(-1)"
      ],
      "execution_count": 51,
      "outputs": []
    },
    {
      "cell_type": "markdown",
      "metadata": {
        "id": "Of56ObPGe31x"
      },
      "source": [
        "# Hyperparameter Tuning"
      ]
    },
    {
      "cell_type": "markdown",
      "metadata": {
        "id": "YXhjvkXm5Eec"
      },
      "source": [
        "### **Creating the directory of the models**"
      ]
    },
    {
      "cell_type": "code",
      "metadata": {
        "id": "s-R2Swz1c3r1"
      },
      "source": [
        "from sklearn.linear_model import SGDRegressor\n",
        "\n",
        "models = {'sgd': SGDRegressor(random_state=random_seed)}"
      ],
      "execution_count": 52,
      "outputs": []
    },
    {
      "cell_type": "markdown",
      "metadata": {
        "id": "9Y7maUUY5JQP"
      },
      "source": [
        "### **Creating the dictionary of the pipelines** "
      ]
    },
    {
      "cell_type": "code",
      "metadata": {
        "id": "Vu-Xeb8xc7De"
      },
      "source": [
        "from sklearn.pipeline import Pipeline\n",
        "\n",
        "pipes = {}\n",
        "\n",
        "for acronym, model in models.items():\n",
        "    pipes[acronym] = Pipeline([('model', model)])"
      ],
      "execution_count": 53,
      "outputs": []
    },
    {
      "cell_type": "markdown",
      "metadata": {
        "id": "E4Y9UA3Q5P_r"
      },
      "source": [
        "### **Getting the predefined split cross-validator**"
      ]
    },
    {
      "cell_type": "code",
      "metadata": {
        "id": "cXW2h9KIdBTm"
      },
      "source": [
        "# Get the:\n",
        "# feature matrix and target velctor in the combined training and validation data\n",
        "# target vector in the combined training and validation data\n",
        "# PredefinedSplit\n",
        "# See the implementation in pmlm_utilities.ipynb\n",
        "X_train_val, y_train_val, ps = get_train_val_ps(X_train, y_train, X_val, y_val)"
      ],
      "execution_count": 54,
      "outputs": []
    },
    {
      "cell_type": "markdown",
      "metadata": {
        "id": "8PhJ1Cel5bLo"
      },
      "source": [
        "### **GridSearchCV**"
      ]
    },
    {
      "cell_type": "code",
      "metadata": {
        "id": "v05nBVXedGkR"
      },
      "source": [
        "param_grids = {}"
      ],
      "execution_count": 55,
      "outputs": []
    },
    {
      "cell_type": "code",
      "metadata": {
        "id": "OujMIyB2dK-T"
      },
      "source": [
        "# The parameter grid of eta\n",
        "eta_grid = [0.0129, 0.0135]\n",
        "\n",
        "# The parameter grid of alpha\n",
        "alpha_grid = [0.01, 0.1]\n",
        "\n",
        "# Update param_grids\n",
        "param_grids['sgd'] = [{'model__eta0': eta_grid,\n",
        "                       'model__alpha': alpha_grid}]"
      ],
      "execution_count": 62,
      "outputs": []
    },
    {
      "cell_type": "code",
      "metadata": {
        "id": "CkBVsJmwdPWT"
      },
      "source": [
        "# Make directory\n",
        "directory = os.path.dirname(abspath_curr + 'result/cv_results/GridSearchCV/')\n",
        "if not os.path.exists(directory):\n",
        "    os.makedirs(directory)"
      ],
      "execution_count": 58,
      "outputs": []
    },
    {
      "cell_type": "code",
      "metadata": {
        "id": "ibhGX-QVdj0Z",
        "colab": {
          "base_uri": "https://localhost:8080/",
          "height": 80
        },
        "outputId": "7b922f43-a665-4b45-a734-98090860d7a5"
      },
      "source": [
        "from sklearn.model_selection import GridSearchCV\n",
        "\n",
        "# The list of [best_score_, best_params_, best_estimator_] obtained by GridSearchCV\n",
        "best_score_params_estimator_gs = []\n",
        "\n",
        "# For each model\n",
        "for acronym in pipes.keys():\n",
        "    # GridSearchCV\n",
        "    gs = GridSearchCV(estimator=pipes[acronym],\n",
        "                      param_grid=param_grids[acronym],\n",
        "                      scoring='neg_mean_squared_error',\n",
        "                      n_jobs=2,\n",
        "                      cv=ps,\n",
        "                      return_train_score=True)\n",
        "        \n",
        "    # Fit the pipeline\n",
        "    gs = gs.fit(X_train_val, y_train_val)\n",
        "    \n",
        "    # Update best_score_params_estimator_gs\n",
        "    best_score_params_estimator_gs.append([gs.best_score_, gs.best_params_, gs.best_estimator_])\n",
        "    \n",
        "    # Sort cv_results in ascending order of 'rank_test_score' and 'std_test_score'\n",
        "    cv_results = pd.DataFrame.from_dict(gs.cv_results_).sort_values(by=['rank_test_score', 'std_test_score'])\n",
        "    \n",
        "    # Get the important columns in cv_results\n",
        "    important_columns = ['rank_test_score',\n",
        "                         'mean_test_score', \n",
        "                         'std_test_score', \n",
        "                         'mean_train_score', \n",
        "                         'std_train_score',\n",
        "                         'mean_fit_time', \n",
        "                         'std_fit_time',                        \n",
        "                         'mean_score_time', \n",
        "                         'std_score_time']\n",
        "    \n",
        "    # Move the important columns ahead\n",
        "    cv_results = cv_results[important_columns + sorted(list(set(cv_results.columns) - set(important_columns)))]\n",
        "\n",
        "    # Write cv_results file\n",
        "    cv_results.to_csv(path_or_buf=abspath_curr + 'result/cv_results/GridSearchCV/' + acronym + '.csv', index=False)\n",
        "\n",
        "# Sort best_score_params_estimator_gs in descending order of the best_score_\n",
        "best_score_params_estimator_gs = sorted(best_score_params_estimator_gs, key=lambda x : x[0], reverse=True)\n",
        "\n",
        "# Print best_score_params_estimator_gs\n",
        "pd.DataFrame(best_score_params_estimator_gs, columns=['best_score', 'best_param', 'best_estimator'])"
      ],
      "execution_count": 63,
      "outputs": [
        {
          "output_type": "execute_result",
          "data": {
            "text/html": [
              "<div>\n",
              "<style scoped>\n",
              "    .dataframe tbody tr th:only-of-type {\n",
              "        vertical-align: middle;\n",
              "    }\n",
              "\n",
              "    .dataframe tbody tr th {\n",
              "        vertical-align: top;\n",
              "    }\n",
              "\n",
              "    .dataframe thead th {\n",
              "        text-align: right;\n",
              "    }\n",
              "</style>\n",
              "<table border=\"1\" class=\"dataframe\">\n",
              "  <thead>\n",
              "    <tr style=\"text-align: right;\">\n",
              "      <th></th>\n",
              "      <th>best_score</th>\n",
              "      <th>best_param</th>\n",
              "      <th>best_estimator</th>\n",
              "    </tr>\n",
              "  </thead>\n",
              "  <tbody>\n",
              "    <tr>\n",
              "      <th>0</th>\n",
              "      <td>-0.332485</td>\n",
              "      <td>{'model__alpha': 0.1, 'model__eta0': 0.0129}</td>\n",
              "      <td>(SGDRegressor(alpha=0.1, average=False, early_...</td>\n",
              "    </tr>\n",
              "  </tbody>\n",
              "</table>\n",
              "</div>"
            ],
            "text/plain": [
              "   best_score  ...                                     best_estimator\n",
              "0   -0.332485  ...  (SGDRegressor(alpha=0.1, average=False, early_...\n",
              "\n",
              "[1 rows x 3 columns]"
            ]
          },
          "metadata": {
            "tags": []
          },
          "execution_count": 63
        }
      ]
    },
    {
      "cell_type": "markdown",
      "metadata": {
        "id": "kOF6id8le32I"
      },
      "source": [
        "# Model Selection"
      ]
    },
    {
      "cell_type": "code",
      "metadata": {
        "id": "347HrDV_vJbb"
      },
      "source": [
        "# Get the best_score, best_params and best_estimator obtained by GridSearchCV\n",
        "best_score_gs, best_params_gs, best_estimator_gs = best_score_params_estimator_gs[0]"
      ],
      "execution_count": 64,
      "outputs": []
    },
    {
      "cell_type": "markdown",
      "metadata": {
        "id": "fiEBpqc_e32K"
      },
      "source": [
        "# Generating the Submission File\n",
        "Use the best model selected earlier to generate the submission file for this kaggle competition."
      ]
    },
    {
      "cell_type": "markdown",
      "metadata": {
        "id": "Aw5WYTRGz65s"
      },
      "source": [
        "## Creating the directory for the submission file"
      ]
    },
    {
      "cell_type": "code",
      "metadata": {
        "id": "z0oLcggN0C9W"
      },
      "source": [
        "# Make directory\n",
        "directory = os.path.dirname(abspath_curr + 'result/submission/')\n",
        "if not os.path.exists(directory):\n",
        "    os.makedirs(directory)"
      ],
      "execution_count": 65,
      "outputs": []
    },
    {
      "cell_type": "markdown",
      "metadata": {
        "id": "y-Qf_8VM0Tt9"
      },
      "source": [
        "## Generating the submission file"
      ]
    },
    {
      "cell_type": "code",
      "metadata": {
        "id": "mVdD3N0re32L",
        "scrolled": true
      },
      "source": [
        "# Get the prediction on the testing data using best_model\n",
        "y_test_pred = best_estimator_gs.predict(X_test)\n",
        "\n",
        "# Get the dataframe of y_test_pred, which has the same shape as df_train\n",
        "df_y_test_pred = pd.DataFrame(np.tile(y_test_pred.reshape(-1, 1), df_train.shape[1]),\n",
        "                              columns=df_train.columns)\n",
        "\n",
        "# Transform df_y_test_pred back to the original scale\n",
        "df_y_test_pred = pd.DataFrame(ss.inverse_transform(df_y_test_pred),\n",
        "                              columns=df_train.columns)\n",
        "\n",
        "# Get the submission dataframe\n",
        "df_submit = pd.DataFrame(np.hstack((df_raw_test[['id']], df_y_test_pred[[target]])),\n",
        "                         columns=['id', target])                                                                                      \n",
        "\n",
        "# Generate the submission file\n",
        "df_submit.to_csv(abspath_curr + 'result/submission/submission.csv', index=False)"
      ],
      "execution_count": 66,
      "outputs": []
    },
    {
      "cell_type": "markdown",
      "metadata": {
        "id": "8FYj4ip1ptk7"
      },
      "source": [
        " ### ***References:*** \n",
        "https://github.com/yuxiaohuang/teaching/tree/master/gwu/machine_learning_I/spring_2021/code\n",
        "\n",
        "https://www.kaggle.com/c/nyc-taxi-trip-duration/overview\n",
        "\n",
        "https://scikit-learn.org/stable/modules/generated/sklearn.linear_model.SGDRegressor.html"
      ]
    }
  ]
}